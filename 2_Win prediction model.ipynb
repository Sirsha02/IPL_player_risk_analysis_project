{
 "cells": [
  {
   "cell_type": "markdown",
   "id": "2716048f",
   "metadata": {},
   "source": [
    "# 1.Load requirments\n"
   ]
  },
  {
   "cell_type": "code",
   "execution_count": 69,
   "id": "2c24ee07",
   "metadata": {},
   "outputs": [],
   "source": [
    "from sklearn.model_selection import train_test_split, cross_val_score\n",
    "from sklearn.ensemble import RandomForestClassifier, GradientBoostingClassifier\n",
    "from sklearn.linear_model import LogisticRegression\n",
    "from sklearn.metrics import classification_report, confusion_matrix, accuracy_score\n",
    "from sklearn.preprocessing import StandardScaler, LabelEncoder\n",
    "import xgboost as xgb\n",
    "import warnings\n",
    "warnings.filterwarnings('ignore')\n",
    "import plotly.graph_objects as go\n",
    "import plotly.express as px\n",
    "import numpy as np\n",
    "import matplotlib.pyplot as plt\n"
   ]
  },
  {
   "cell_type": "code",
   "execution_count": 70,
   "id": "21e60c7c",
   "metadata": {},
   "outputs": [],
   "source": [
    "import pandas as pd\n",
    "df = pd.read_csv('outputs/df_cleaned.csv', low_memory=False)\n",
    "df_season_perf = pd.read_csv('outputs/df_season_wise_performance.csv')\n",
    "player_impact_merged = pd.read_csv('outputs/impact_scores_with_role.csv')"
   ]
  },
  {
   "cell_type": "markdown",
   "id": "9a08465d",
   "metadata": {},
   "source": [
    "# 2. Team strength calculation\n"
   ]
  },
  {
   "cell_type": "code",
   "execution_count": 71,
   "id": "13decddd",
   "metadata": {},
   "outputs": [
    {
     "name": "stdout",
     "output_type": "stream",
     "text": [
      "Calculated team strength for 156 team-seasons\n"
     ]
    }
   ],
   "source": [
    "def calculate_team_strength_with_allrounders(player_impact_merged):\n",
    "    \"\"\"\n",
    "    Calculate team strength using:\n",
    "    - Top 7 batters (batting impact)\n",
    "    - Top 5 bowlers (bowling impact) \n",
    "    - Top 3 all-rounders (overall impact)\n",
    "    \"\"\"\n",
    "    team_strength_data = []\n",
    "    \n",
    "    for season in player_impact_merged['Season'].unique():\n",
    "        # Get teams from this season\n",
    "        season_teams = player_impact_merged[player_impact_merged['Season'] == season]['Team'].unique()\n",
    "        \n",
    "        for team in season_teams:\n",
    "            # Get all players in this team for this season\n",
    "            team_players = player_impact_merged[\n",
    "                (player_impact_merged['Team'] == team) & \n",
    "                (player_impact_merged['Season'] == season)\n",
    "            ]\n",
    "            \n",
    "            if len(team_players) == 0:\n",
    "                continue\n",
    "            \n",
    "            # STRATEGY: Build the ideal playing XI composition\n",
    "            # Typical T20 team: 5-6 batters + 3-4 bowlers + 1-2 all-rounders\n",
    "            \n",
    "            # 1. TOP BATTERS (Primary batting strength)\n",
    "            batters = team_players.nlargest(7, 'Overall_Impact_Normalized')\n",
    "            batting_strength = batters['Overall_Impact_Normalized'].mean() if len(batters) > 0 else 50\n",
    "            \n",
    "            # 2. TOP BOWLERS (Primary bowling strength)  \n",
    "            bowlers = team_players.nlargest(5, 'Overall_Impact_Normalized')\n",
    "            bowling_strength = bowlers['Overall_Impact_Normalized'].mean() if len(bowlers) > 0 else 50\n",
    "            \n",
    "            # 3. TOP ALL-ROUNDERS (Game changers - contribute to both)\n",
    "            all_rounders = team_players[\n",
    "                team_players['Player_Role'].isin(['All-Rounder'])\n",
    "            ].nlargest(3, 'Overall_Impact_Normalized')\n",
    "            \n",
    "            all_rounder_strength = all_rounders['Overall_Impact_Normalized'].mean() if len(all_rounders) > 0 else 50\n",
    "            \n",
    "            # 4. CALCULATE WEIGHTED OVERALL STRENGTH\n",
    "            # Weights based on T20 team composition importance:\n",
    "            # - Batting: 40% (5-6 players in lineup)\n",
    "            # - Bowling: 40% (3-4 frontline bowlers)  \n",
    "            # - All-rounders: 20% (1-2 game changers)\n",
    "            \n",
    "            overall_strength = ( batting_strength + bowling_strength + all_rounder_strength ) /3\n",
    "                      \n",
    "            \n",
    "            # 5. ADDITIONAL METRICS FOR INSIGHTS\n",
    "            squad_depth = len(team_players)\n",
    "            team_balance = abs(batting_strength - bowling_strength)  # Lower = more balanced\n",
    "            \n",
    "            # Game-changing potential (presence of elite players)\n",
    "            elite_players = team_players[team_players['Overall_Impact_Normalized'] >= 75]\n",
    "            game_changers = len(elite_players)\n",
    "            \n",
    "            team_strength_data.append({\n",
    "                'Team': team,\n",
    "                'Season': season,\n",
    "                'Overall_Strength': overall_strength,\n",
    "                'Batting_Strength': batting_strength,\n",
    "                'Bowling_Strength': bowling_strength,\n",
    "                'AllRounder_Strength': all_rounder_strength,\n",
    "                'Squad_Depth': squad_depth,\n",
    "                'Team_Balance': team_balance,\n",
    "                'Game_Changers': game_changers,\n",
    "                'Top_Batter_Score': batters['Batting_Impact_Normalized'].max() if len(batters) > 0 else 0,\n",
    "                'Top_Bowler_Score': bowlers['Bowling_Impact_Normalized'].max() if len(bowlers) > 0 else 0,\n",
    "                'Top_AllRounder_Score': all_rounders['Overall_Impact_Normalized'].max() if len(all_rounders) > 0 else 0,\n",
    "                'Batting_Depth': len(batters),\n",
    "                'Bowling_Depth': len(bowlers),\n",
    "                'AllRounder_Depth': len(all_rounders)\n",
    "            })\n",
    "    \n",
    "    return pd.DataFrame(team_strength_data)\n",
    "\n",
    "# Calculate enhanced team strength\n",
    "team_strength_enhanced = calculate_team_strength_with_allrounders(player_impact_merged)\n",
    "\n",
    "print(f\"Calculated team strength for {len(team_strength_enhanced)} team-seasons\")\n",
    "\n"
   ]
  },
  {
   "cell_type": "markdown",
   "id": "29d007be",
   "metadata": {},
   "source": [
    "## 2.1 Testing"
   ]
  },
  {
   "cell_type": "code",
   "execution_count": 72,
   "id": "642b5b81",
   "metadata": {},
   "outputs": [
    {
     "name": "stdout",
     "output_type": "stream",
     "text": [
      "TOP 10 STRONGEST TEAMS:\n",
      "                            Team  Season  Overall_Strength  Batting_Strength  \\\n",
      "80              Rajasthan Royals    2008              76.5              74.0   \n",
      "58         Kolkata Knight Riders    2024              73.1              72.8   \n",
      "29   Royal Challengers Bangalore    2016              72.2              76.2   \n",
      "153          Chennai Super Kings    2021              72.1              73.9   \n",
      "43              Rajasthan Royals    2022              71.4              74.4   \n",
      "87               Deccan Chargers    2009              71.0              74.1   \n",
      "16           Chennai Super Kings    2013              70.8              76.0   \n",
      "112               Mumbai Indians    2010              70.6              74.5   \n",
      "137               Mumbai Indians    2019              69.7              72.4   \n",
      "70                Gujarat Titans    2025              69.6              75.5   \n",
      "\n",
      "     Bowling_Strength  AllRounder_Strength  Game_Changers  \n",
      "80               76.2                 79.2              4  \n",
      "58               74.1                 72.6              2  \n",
      "29               81.3                 59.1              2  \n",
      "153              76.2                 66.1              2  \n",
      "43               77.5                 62.3              2  \n",
      "87               76.0                 63.1              3  \n",
      "16               79.8                 56.6              4  \n",
      "112              76.1                 61.2              2  \n",
      "137              74.3                 62.5              2  \n",
      "70               78.9                 54.3              4  \n",
      "TEAMS WITH BEST ALL-ROUNDERS:\n",
      "                      Team  Season  AllRounder_Strength  AllRounder_Depth  \\\n",
      "80        Rajasthan Royals    2008                 79.2                 2   \n",
      "58   Kolkata Knight Riders    2024                 72.6                 2   \n",
      "103  Kolkata Knight Riders    2018                 67.2                 3   \n",
      "153    Chennai Super Kings    2021                 66.1                 3   \n",
      "8      Chennai Super Kings    2012                 65.1                 3   \n",
      "88          Mumbai Indians    2009                 64.5                 3   \n",
      "37   Kolkata Knight Riders    2022                 64.1                 3   \n",
      "87         Deccan Chargers    2009                 63.1                 3   \n",
      "\n",
      "     Top_AllRounder_Score  \n",
      "80                   79.2  \n",
      "58                   76.5  \n",
      "103                  69.4  \n",
      "153                  70.5  \n",
      "8                    71.9  \n",
      "88                   65.7  \n",
      "37                   71.2  \n",
      "87                   72.3  \n",
      "MOST BALANCED TEAMS (Batting ≈ Bowling):\n",
      "                    Team  Season  Overall_Strength  Batting_Strength  \\\n",
      "97        Mumbai Indians    2017              64.6              70.9   \n",
      "25       Kings XI Punjab    2015              62.4              64.6   \n",
      "38   Chennai Super Kings    2022              64.1              66.4   \n",
      "65   Chennai Super Kings    2025              61.6              67.4   \n",
      "20   Chennai Super Kings    2015              61.5              71.9   \n",
      "130      Kings XI Punjab    2014              63.5              73.4   \n",
      "98        Mumbai Indians    2018              61.7              67.6   \n",
      "8    Chennai Super Kings    2012              68.9              70.2   \n",
      "\n",
      "     Bowling_Strength  Team_Balance  \n",
      "97               71.8           0.9  \n",
      "25               65.5           0.9  \n",
      "38               67.3           0.9  \n",
      "65               68.4           1.0  \n",
      "20               73.0           1.1  \n",
      "130              74.5           1.1  \n",
      "98               68.7           1.1  \n",
      "8                71.3           1.1  \n"
     ]
    }
   ],
   "source": [
    "# Top overall teams\n",
    "print(\"TOP 10 STRONGEST TEAMS:\")\n",
    "top_teams = team_strength_enhanced.nlargest(10, 'Overall_Strength')[\n",
    "    ['Team', 'Season', 'Overall_Strength', 'Batting_Strength', 'Bowling_Strength', 'AllRounder_Strength', 'Game_Changers']\n",
    "].round(1)\n",
    "print(top_teams)\n",
    "\n",
    "\n",
    "# Teams with best all-rounders\n",
    "print(\"TEAMS WITH BEST ALL-ROUNDERS:\")\n",
    "best_allrounder_teams = team_strength_enhanced.nlargest(8, 'AllRounder_Strength')[\n",
    "    ['Team', 'Season', 'AllRounder_Strength', 'AllRounder_Depth', 'Top_AllRounder_Score']\n",
    "].round(1)\n",
    "print(best_allrounder_teams)\n",
    "\n",
    "\n",
    "# Most balanced teams\n",
    "print(\"MOST BALANCED TEAMS (Batting ≈ Bowling):\")\n",
    "balanced_teams = team_strength_enhanced.nsmallest(8, 'Team_Balance')[\n",
    "    ['Team', 'Season', 'Overall_Strength', 'Batting_Strength', 'Bowling_Strength', 'Team_Balance']\n",
    "].round(1)\n",
    "print(balanced_teams)\n"
   ]
  },
  {
   "cell_type": "code",
   "execution_count": 73,
   "id": "5b91eecf",
   "metadata": {},
   "outputs": [
    {
     "name": "stdout",
     "output_type": "stream",
     "text": [
      "\n",
      "============================================================\n",
      "SAMPLE TEAM ANALYSES\n",
      "============================================================\n",
      "DETAILED ANALYSIS: Royal Challengers Bangalore (2016)\n",
      "==================================================\n",
      "Overall Strength: 72.2/100\n",
      "Batting Strength: 76.2/100 (Top 7 batters)\n",
      "Bowling Strength: 81.3/100 (Top 5 bowlers)\n",
      "All-Rounder Strength: 59.1/100 (Top 2 all-rounders)\n",
      "Game Changers: 2 elite players\n",
      "Team Balance: 5.1 (lower = more balanced)\n",
      "\n",
      "ASSESSMENT: STRONG TEAM - Playoff contender\n",
      "BALANCE: Slightly imbalanced\n",
      "DETAILED ANALYSIS: Mumbai Indians (2020)\n",
      "==================================================\n",
      "Overall Strength: 67.0/100\n",
      "Batting Strength: 75.7/100 (Top 7 batters)\n",
      "Bowling Strength: 78.1/100 (Top 5 bowlers)\n",
      "All-Rounder Strength: 47.1/100 (Top 3 all-rounders)\n",
      "Game Changers: 5 elite players\n",
      "Team Balance: 2.4 (lower = more balanced)\n",
      "\n",
      "ASSESSMENT: COMPETITIVE TEAM - Mid-table\n",
      "BALANCE: Well-balanced squad\n",
      "DETAILED ANALYSIS: Chennai Super Kings (2021)\n",
      "==================================================\n",
      "Overall Strength: 72.1/100\n",
      "Batting Strength: 73.9/100 (Top 7 batters)\n",
      "Bowling Strength: 76.2/100 (Top 5 bowlers)\n",
      "All-Rounder Strength: 66.1/100 (Top 3 all-rounders)\n",
      "Game Changers: 2 elite players\n",
      "Team Balance: 2.3 (lower = more balanced)\n",
      "\n",
      "ASSESSMENT: STRONG TEAM - Playoff contender\n",
      "BALANCE: Well-balanced squad\n"
     ]
    }
   ],
   "source": [
    "\n",
    "def analyze_team_strength(team_name, season):\n",
    "    \"\"\"Detailed analysis of a specific team's strength\"\"\"\n",
    "    team_data = team_strength_enhanced[\n",
    "        (team_strength_enhanced['Team'] == team_name) & \n",
    "        (team_strength_enhanced['Season'] == season)\n",
    "    ]\n",
    "    \n",
    "    if len(team_data) == 0:\n",
    "        print(f\"No data for {team_name} in {season}\")\n",
    "        return\n",
    "    \n",
    "    team_data = team_data.iloc[0]\n",
    "    \n",
    "    print(f\"DETAILED ANALYSIS: {team_name} ({season})\")\n",
    "    print(\"=\"*50)\n",
    "    \n",
    "    print(f\"Overall Strength: {team_data['Overall_Strength']:.1f}/100\")\n",
    "    print(f\"Batting Strength: {team_data['Batting_Strength']:.1f}/100 (Top {team_data['Batting_Depth']} batters)\")\n",
    "    print(f\"Bowling Strength: {team_data['Bowling_Strength']:.1f}/100 (Top {team_data['Bowling_Depth']} bowlers)\")\n",
    "    print(f\"All-Rounder Strength: {team_data['AllRounder_Strength']:.1f}/100 (Top {team_data['AllRounder_Depth']} all-rounders)\")\n",
    "    print(f\"Game Changers: {team_data['Game_Changers']} elite players\")\n",
    "    print(f\"Team Balance: {team_data['Team_Balance']:.1f} (lower = more balanced)\")\n",
    "    \n",
    "    # Strength assessment\n",
    "    if team_data['Overall_Strength'] >= 80:\n",
    "        strength_verdict = \"ELITE TEAM - Championship contender\"\n",
    "    elif team_data['Overall_Strength'] >= 70:\n",
    "        strength_verdict = \"STRONG TEAM - Playoff contender\" \n",
    "    elif team_data['Overall_Strength'] >= 60:\n",
    "        strength_verdict = \"COMPETITIVE TEAM - Mid-table\"\n",
    "    else:\n",
    "        strength_verdict = \"DEVELOPING TEAM - Rebuilding phase\"\n",
    "    \n",
    "    # Balance assessment\n",
    "    if team_data['Team_Balance'] <= 5:\n",
    "        balance_verdict = \"Well-balanced squad\"\n",
    "    elif team_data['Team_Balance'] <= 10:\n",
    "        balance_verdict = \"Slightly imbalanced\"\n",
    "    else:\n",
    "        balance_verdict = \"Heavily reliant on one department\"\n",
    "    \n",
    "    print(f\"\\nASSESSMENT: {strength_verdict}\")\n",
    "    print(f\"BALANCE: {balance_verdict}\")\n",
    "\n",
    "# Analyze some famous teams\n",
    "print(\"\\n\" + \"=\"*60)\n",
    "print(\"SAMPLE TEAM ANALYSES\")\n",
    "print(\"=\"*60)\n",
    "\n",
    "analyze_team_strength(\"Royal Challengers Bangalore\", 2016)\n",
    "analyze_team_strength(\"Mumbai Indians\", 2020)\n",
    "analyze_team_strength(\"Chennai Super Kings\", 2021)\n"
   ]
  },
  {
   "cell_type": "markdown",
   "id": "7716c67e",
   "metadata": {},
   "source": [
    "# 3.Preparing features"
   ]
  },
  {
   "cell_type": "code",
   "execution_count": 74,
   "id": "27eb8f4a",
   "metadata": {},
   "outputs": [
    {
     "name": "stdout",
     "output_type": "stream",
     "text": [
      "Converting ball-by-ball data to match summaries...\n",
      "Created features for 1164 complete matches\n",
      "\n",
      "ENHANCED FEATURES CREATED:\n",
      "Total matches with features: 1164\n",
      "Win rate while chasing: 53.35%\n",
      "\n",
      "SAMPLE OF ENHANCED FEATURES:\n",
      "   match_id  season                                       venue  \\\n",
      "0    335982    2008                       M Chinnaswamy Stadium   \n",
      "1    335983    2008  Punjab Cricket Association Stadium, Mohali   \n",
      "2    335984    2008                            Feroz Shah Kotla   \n",
      "3    335985    2008                            Wankhede Stadium   \n",
      "4    335986    2008                                Eden Gardens   \n",
      "5    335987    2008                      Sawai Mansingh Stadium   \n",
      "6    335988    2008   Rajiv Gandhi International Stadium, Uppal   \n",
      "7    335989    2008             MA Chidambaram Stadium, Chepauk   \n",
      "\n",
      "      team_batting_first                 chasing_team         defending_team  \\\n",
      "0  Kolkata Knight Riders  Royal Challengers Bangalore  Kolkata Knight Riders   \n",
      "1    Chennai Super Kings              Kings XI Punjab    Chennai Super Kings   \n",
      "2       Rajasthan Royals             Delhi Daredevils       Rajasthan Royals   \n",
      "3         Mumbai Indians  Royal Challengers Bangalore         Mumbai Indians   \n",
      "4        Deccan Chargers        Kolkata Knight Riders        Deccan Chargers   \n",
      "5        Kings XI Punjab             Rajasthan Royals        Kings XI Punjab   \n",
      "6        Deccan Chargers             Delhi Daredevils        Deccan Chargers   \n",
      "7    Chennai Super Kings               Mumbai Indians    Chennai Super Kings   \n",
      "\n",
      "                   toss_winner toss_decision  first_innings_runs  \\\n",
      "0  Royal Challengers Bangalore         field                 222   \n",
      "1          Chennai Super Kings           bat                 240   \n",
      "2             Rajasthan Royals           bat                 129   \n",
      "3               Mumbai Indians           bat                 165   \n",
      "4              Deccan Chargers           bat                 110   \n",
      "5              Kings XI Punjab           bat                 166   \n",
      "6              Deccan Chargers           bat                 142   \n",
      "7               Mumbai Indians         field                 208   \n",
      "\n",
      "   first_innings_wickets  target_runs  required_run_rate  \\\n",
      "0                      3        223.0              11.15   \n",
      "1                      5        241.0              12.05   \n",
      "2                      8        130.0               6.50   \n",
      "3                      6        166.0               8.30   \n",
      "4                     10        111.0               5.55   \n",
      "5                      8        167.0               8.35   \n",
      "6                      8        143.0               7.15   \n",
      "7                      5        209.0              10.45   \n",
      "\n",
      "                 actual_winner  won_chasing  final_runs_chasing  \\\n",
      "0        Kolkata Knight Riders            0                  82   \n",
      "1          Chennai Super Kings            0                 207   \n",
      "2             Delhi Daredevils            1                 132   \n",
      "3  Royal Challengers Bangalore            1                 166   \n",
      "4        Kolkata Knight Riders            1                 112   \n",
      "5             Rajasthan Royals            1                 168   \n",
      "6             Delhi Daredevils            1                 143   \n",
      "7          Chennai Super Kings            0                 202   \n",
      "\n",
      "   runs_margin(if won chasing)  \n",
      "0                          0.0  \n",
      "1                          0.0  \n",
      "2                          2.0  \n",
      "3                          0.0  \n",
      "4                          1.0  \n",
      "5                          1.0  \n",
      "6                          0.0  \n",
      "7                          0.0  \n",
      "\n",
      "FEATURE SUMMARY:\n",
      "       target_runs  first_innings_runs  required_run_rate\n",
      "count  1164.000000         1164.000000        1164.000000\n",
      "mean    167.275773          167.192440           8.363789\n",
      "std      34.226780           32.778746           1.711339\n",
      "min      43.000000           62.000000           2.150000\n",
      "25%     147.000000          147.000000           7.350000\n",
      "50%     167.000000          167.000000           8.350000\n",
      "75%     188.000000          188.000000           9.400000\n",
      "max     288.000000          287.000000          14.400000\n"
     ]
    }
   ],
   "source": [
    "def prepare_match_features_enhanced(df):\n",
    "    \"\"\"\n",
    "    Step 1: Create match-level features with ALL team names and actual winner\n",
    "    \"\"\"\n",
    "    print(\"Converting ball-by-ball data to match summaries...\")\n",
    "    \n",
    "    match_features = []\n",
    "    \n",
    "    for match_id in df['match_id'].unique():\n",
    "        match_data = df[df['match_id'] == match_id].copy()\n",
    "        \n",
    "        # Skip incomplete matches or matches with only 1 innings\n",
    "        if len(match_data[match_data['innings'] == 2]) == 0:\n",
    "            continue\n",
    "        \n",
    "        # Get basic match info\n",
    "        season = match_data['year'].iloc[0]\n",
    "        venue = match_data['venue'].iloc[0]\n",
    "        toss_winner = match_data['toss_winner'].iloc[0]\n",
    "        toss_decision = match_data['toss_decision'].iloc[0]\n",
    "        \n",
    "        # Get ACTUAL MATCH WINNER from the data  \n",
    "        if 'match_won_by' in match_data.columns and not match_data['match_won_by'].isna().all():\n",
    "            actual_winner = match_data['match_won_by'].iloc[0]\n",
    "        # Method 3: Determine winner from innings results (fallback)\n",
    "       \n",
    "        else: #NOT NEEDED for this data\n",
    "            # Get team batting first and second\n",
    "            first_innings_team = match_data[match_data['innings'] == 1]['batting_team'].iloc[0]\n",
    "            second_innings_team = match_data[match_data['innings'] == 2]['batting_team'].iloc[0]\n",
    "            \n",
    "            # Get final scores\n",
    "            first_innings_score = match_data[match_data['innings'] == 1]['team_runs'].iloc[-1]\n",
    "            second_innings_score = match_data[match_data['innings'] == 2]['team_runs'].iloc[-1]\n",
    "            \n",
    "            # Determine winner\n",
    "            if second_innings_score >= first_innings_score:\n",
    "                actual_winner = second_innings_team  # Chasing team won\n",
    "            else:\n",
    "                actual_winner = first_innings_team   # Defending team won\n",
    "        \n",
    "\n",
    "\n",
    "\n",
    "        # First innings stats\n",
    "        first_innings = match_data[match_data['innings'] == 1]\n",
    "        if len(first_innings) == 0:\n",
    "            continue\n",
    "            \n",
    "        first_innings_runs = first_innings['team_runs'].iloc[-1]\n",
    "        first_innings_wickets = first_innings['team_wicket'].iloc[-1]\n",
    "        team_batting_first = first_innings['batting_team'].iloc[0]\n",
    "        team_bowling_first = first_innings['bowling_team'].iloc[0]\n",
    "        \n",
    "        # Second innings stats (this is what we're predicting)\n",
    "        second_innings = match_data[match_data['innings'] == 2]\n",
    "        target_runs = second_innings['runs_target'].iloc[0]\n",
    "        chasing_team = second_innings['batting_team'].iloc[0]\n",
    "        defending_team = second_innings['bowling_team'].iloc[0]\n",
    "        \n",
    "        # Actual result (our target variable)\n",
    "        final_runs = second_innings['team_runs'].iloc[-1]\n",
    "        won_chasing = 1 if final_runs >= target_runs else 0\n",
    "        \n",
    "        # Feature engineering\n",
    "        features = {\n",
    "            'match_id': match_id,\n",
    "            'season': season,\n",
    "            'venue': venue,\n",
    "            \n",
    "            # ALL TEAM NAMES\n",
    "            'team_batting_first': team_batting_first,\n",
    "            #'team_bowling_first': team_bowling_first,\n",
    "            'chasing_team': chasing_team,\n",
    "            'defending_team': defending_team,\n",
    "            \n",
    "            # TOSS INFORMATION\n",
    "            'toss_winner': toss_winner,\n",
    "            'toss_decision': toss_decision,\n",
    "            #'is_toss_winner_chasing': 1 if toss_winner == chasing_team else 0,\n",
    "            #'is_batting_first_won_toss': 1 if toss_decision == 'bat' else 0,\n",
    "            \n",
    "            # MATCH STATS\n",
    "            'first_innings_runs': first_innings_runs,\n",
    "            'first_innings_wickets': first_innings_wickets,\n",
    "            'target_runs': target_runs,\n",
    "            'required_run_rate': target_runs / 20,  # Initial required RR\n",
    "            \n",
    "            # ACTUAL RESULTS\n",
    "            'actual_winner': actual_winner,\n",
    "            'won_chasing': won_chasing,  # TARGET VARIABLE\n",
    "            \n",
    "            # ADDITIONAL CONTEXT\n",
    "            'final_runs_chasing': final_runs,\n",
    "            'runs_margin(if won chasing)': abs(final_runs - target_runs) if won_chasing else 0\n",
    "        }\n",
    "        \n",
    "        match_features.append(features)\n",
    "    \n",
    "    features_df = pd.DataFrame(match_features)\n",
    "    print(f\"Created features for {len(features_df)} complete matches\")\n",
    "    return features_df\n",
    "\n",
    "# Execute Step 1\n",
    "features_df = prepare_match_features_enhanced(df)\n",
    "\n",
    "# Display what we created\n",
    "print(\"\\nENHANCED FEATURES CREATED:\")\n",
    "print(f\"Total matches with features: {len(features_df)}\")\n",
    "print(f\"Win rate while chasing: {features_df['won_chasing'].mean():.2%}\")\n",
    "\n",
    "print(\"\\nSAMPLE OF ENHANCED FEATURES:\")\n",
    "print(features_df.head(8))\n",
    "\n",
    "print(\"\\nFEATURE SUMMARY:\")\n",
    "print(features_df[['target_runs', 'first_innings_runs', 'required_run_rate']].describe())"
   ]
  },
  {
   "cell_type": "code",
   "execution_count": 75,
   "id": "307f2bc7",
   "metadata": {},
   "outputs": [
    {
     "data": {
      "text/html": [
       "<div>\n",
       "<style scoped>\n",
       "    .dataframe tbody tr th:only-of-type {\n",
       "        vertical-align: middle;\n",
       "    }\n",
       "\n",
       "    .dataframe tbody tr th {\n",
       "        vertical-align: top;\n",
       "    }\n",
       "\n",
       "    .dataframe thead th {\n",
       "        text-align: right;\n",
       "    }\n",
       "</style>\n",
       "<table border=\"1\" class=\"dataframe\">\n",
       "  <thead>\n",
       "    <tr style=\"text-align: right;\">\n",
       "      <th></th>\n",
       "      <th>match_id</th>\n",
       "      <th>season</th>\n",
       "      <th>venue</th>\n",
       "      <th>team_batting_first</th>\n",
       "      <th>chasing_team</th>\n",
       "      <th>defending_team</th>\n",
       "      <th>toss_winner</th>\n",
       "      <th>toss_decision</th>\n",
       "      <th>first_innings_runs</th>\n",
       "      <th>first_innings_wickets</th>\n",
       "      <th>target_runs</th>\n",
       "      <th>required_run_rate</th>\n",
       "      <th>actual_winner</th>\n",
       "      <th>won_chasing</th>\n",
       "      <th>final_runs_chasing</th>\n",
       "      <th>runs_margin(if won chasing)</th>\n",
       "    </tr>\n",
       "  </thead>\n",
       "  <tbody>\n",
       "    <tr>\n",
       "      <th>0</th>\n",
       "      <td>335982</td>\n",
       "      <td>2008</td>\n",
       "      <td>M Chinnaswamy Stadium</td>\n",
       "      <td>Kolkata Knight Riders</td>\n",
       "      <td>Royal Challengers Bangalore</td>\n",
       "      <td>Kolkata Knight Riders</td>\n",
       "      <td>Royal Challengers Bangalore</td>\n",
       "      <td>field</td>\n",
       "      <td>222</td>\n",
       "      <td>3</td>\n",
       "      <td>223.0</td>\n",
       "      <td>11.15</td>\n",
       "      <td>Kolkata Knight Riders</td>\n",
       "      <td>0</td>\n",
       "      <td>82</td>\n",
       "      <td>0.0</td>\n",
       "    </tr>\n",
       "    <tr>\n",
       "      <th>1</th>\n",
       "      <td>335983</td>\n",
       "      <td>2008</td>\n",
       "      <td>Punjab Cricket Association Stadium, Mohali</td>\n",
       "      <td>Chennai Super Kings</td>\n",
       "      <td>Kings XI Punjab</td>\n",
       "      <td>Chennai Super Kings</td>\n",
       "      <td>Chennai Super Kings</td>\n",
       "      <td>bat</td>\n",
       "      <td>240</td>\n",
       "      <td>5</td>\n",
       "      <td>241.0</td>\n",
       "      <td>12.05</td>\n",
       "      <td>Chennai Super Kings</td>\n",
       "      <td>0</td>\n",
       "      <td>207</td>\n",
       "      <td>0.0</td>\n",
       "    </tr>\n",
       "    <tr>\n",
       "      <th>2</th>\n",
       "      <td>335984</td>\n",
       "      <td>2008</td>\n",
       "      <td>Feroz Shah Kotla</td>\n",
       "      <td>Rajasthan Royals</td>\n",
       "      <td>Delhi Daredevils</td>\n",
       "      <td>Rajasthan Royals</td>\n",
       "      <td>Rajasthan Royals</td>\n",
       "      <td>bat</td>\n",
       "      <td>129</td>\n",
       "      <td>8</td>\n",
       "      <td>130.0</td>\n",
       "      <td>6.50</td>\n",
       "      <td>Delhi Daredevils</td>\n",
       "      <td>1</td>\n",
       "      <td>132</td>\n",
       "      <td>2.0</td>\n",
       "    </tr>\n",
       "    <tr>\n",
       "      <th>3</th>\n",
       "      <td>335985</td>\n",
       "      <td>2008</td>\n",
       "      <td>Wankhede Stadium</td>\n",
       "      <td>Mumbai Indians</td>\n",
       "      <td>Royal Challengers Bangalore</td>\n",
       "      <td>Mumbai Indians</td>\n",
       "      <td>Mumbai Indians</td>\n",
       "      <td>bat</td>\n",
       "      <td>165</td>\n",
       "      <td>6</td>\n",
       "      <td>166.0</td>\n",
       "      <td>8.30</td>\n",
       "      <td>Royal Challengers Bangalore</td>\n",
       "      <td>1</td>\n",
       "      <td>166</td>\n",
       "      <td>0.0</td>\n",
       "    </tr>\n",
       "    <tr>\n",
       "      <th>4</th>\n",
       "      <td>335986</td>\n",
       "      <td>2008</td>\n",
       "      <td>Eden Gardens</td>\n",
       "      <td>Deccan Chargers</td>\n",
       "      <td>Kolkata Knight Riders</td>\n",
       "      <td>Deccan Chargers</td>\n",
       "      <td>Deccan Chargers</td>\n",
       "      <td>bat</td>\n",
       "      <td>110</td>\n",
       "      <td>10</td>\n",
       "      <td>111.0</td>\n",
       "      <td>5.55</td>\n",
       "      <td>Kolkata Knight Riders</td>\n",
       "      <td>1</td>\n",
       "      <td>112</td>\n",
       "      <td>1.0</td>\n",
       "    </tr>\n",
       "    <tr>\n",
       "      <th>...</th>\n",
       "      <td>...</td>\n",
       "      <td>...</td>\n",
       "      <td>...</td>\n",
       "      <td>...</td>\n",
       "      <td>...</td>\n",
       "      <td>...</td>\n",
       "      <td>...</td>\n",
       "      <td>...</td>\n",
       "      <td>...</td>\n",
       "      <td>...</td>\n",
       "      <td>...</td>\n",
       "      <td>...</td>\n",
       "      <td>...</td>\n",
       "      <td>...</td>\n",
       "      <td>...</td>\n",
       "      <td>...</td>\n",
       "    </tr>\n",
       "    <tr>\n",
       "      <th>195</th>\n",
       "      <td>501219</td>\n",
       "      <td>2011</td>\n",
       "      <td>Eden Gardens</td>\n",
       "      <td>Kochi Tuskers Kerala</td>\n",
       "      <td>Kolkata Knight Riders</td>\n",
       "      <td>Kochi Tuskers Kerala</td>\n",
       "      <td>Kolkata Knight Riders</td>\n",
       "      <td>field</td>\n",
       "      <td>132</td>\n",
       "      <td>7</td>\n",
       "      <td>133.0</td>\n",
       "      <td>6.65</td>\n",
       "      <td>Kochi Tuskers Kerala</td>\n",
       "      <td>0</td>\n",
       "      <td>126</td>\n",
       "      <td>0.0</td>\n",
       "    </tr>\n",
       "    <tr>\n",
       "      <th>196</th>\n",
       "      <td>501220</td>\n",
       "      <td>2011</td>\n",
       "      <td>Punjab Cricket Association Stadium, Mohali</td>\n",
       "      <td>Kings XI Punjab</td>\n",
       "      <td>Rajasthan Royals</td>\n",
       "      <td>Kings XI Punjab</td>\n",
       "      <td>Rajasthan Royals</td>\n",
       "      <td>field</td>\n",
       "      <td>195</td>\n",
       "      <td>7</td>\n",
       "      <td>196.0</td>\n",
       "      <td>9.80</td>\n",
       "      <td>Kings XI Punjab</td>\n",
       "      <td>0</td>\n",
       "      <td>147</td>\n",
       "      <td>0.0</td>\n",
       "    </tr>\n",
       "    <tr>\n",
       "      <th>197</th>\n",
       "      <td>501221</td>\n",
       "      <td>2011</td>\n",
       "      <td>Wankhede Stadium</td>\n",
       "      <td>Mumbai Indians</td>\n",
       "      <td>Chennai Super Kings</td>\n",
       "      <td>Mumbai Indians</td>\n",
       "      <td>Chennai Super Kings</td>\n",
       "      <td>field</td>\n",
       "      <td>164</td>\n",
       "      <td>4</td>\n",
       "      <td>165.0</td>\n",
       "      <td>8.25</td>\n",
       "      <td>Mumbai Indians</td>\n",
       "      <td>0</td>\n",
       "      <td>156</td>\n",
       "      <td>0.0</td>\n",
       "    </tr>\n",
       "    <tr>\n",
       "      <th>198</th>\n",
       "      <td>501222</td>\n",
       "      <td>2011</td>\n",
       "      <td>Eden Gardens</td>\n",
       "      <td>Kolkata Knight Riders</td>\n",
       "      <td>Royal Challengers Bangalore</td>\n",
       "      <td>Kolkata Knight Riders</td>\n",
       "      <td>Royal Challengers Bangalore</td>\n",
       "      <td>field</td>\n",
       "      <td>171</td>\n",
       "      <td>5</td>\n",
       "      <td>172.0</td>\n",
       "      <td>8.60</td>\n",
       "      <td>Royal Challengers Bangalore</td>\n",
       "      <td>1</td>\n",
       "      <td>175</td>\n",
       "      <td>3.0</td>\n",
       "    </tr>\n",
       "    <tr>\n",
       "      <th>199</th>\n",
       "      <td>501223</td>\n",
       "      <td>2011</td>\n",
       "      <td>Feroz Shah Kotla</td>\n",
       "      <td>Delhi Daredevils</td>\n",
       "      <td>Kings XI Punjab</td>\n",
       "      <td>Delhi Daredevils</td>\n",
       "      <td>Kings XI Punjab</td>\n",
       "      <td>field</td>\n",
       "      <td>231</td>\n",
       "      <td>4</td>\n",
       "      <td>232.0</td>\n",
       "      <td>11.60</td>\n",
       "      <td>Delhi Daredevils</td>\n",
       "      <td>0</td>\n",
       "      <td>202</td>\n",
       "      <td>0.0</td>\n",
       "    </tr>\n",
       "  </tbody>\n",
       "</table>\n",
       "<p>200 rows × 16 columns</p>\n",
       "</div>"
      ],
      "text/plain": [
       "     match_id  season                                       venue  \\\n",
       "0      335982    2008                       M Chinnaswamy Stadium   \n",
       "1      335983    2008  Punjab Cricket Association Stadium, Mohali   \n",
       "2      335984    2008                            Feroz Shah Kotla   \n",
       "3      335985    2008                            Wankhede Stadium   \n",
       "4      335986    2008                                Eden Gardens   \n",
       "..        ...     ...                                         ...   \n",
       "195    501219    2011                                Eden Gardens   \n",
       "196    501220    2011  Punjab Cricket Association Stadium, Mohali   \n",
       "197    501221    2011                            Wankhede Stadium   \n",
       "198    501222    2011                                Eden Gardens   \n",
       "199    501223    2011                            Feroz Shah Kotla   \n",
       "\n",
       "        team_batting_first                 chasing_team  \\\n",
       "0    Kolkata Knight Riders  Royal Challengers Bangalore   \n",
       "1      Chennai Super Kings              Kings XI Punjab   \n",
       "2         Rajasthan Royals             Delhi Daredevils   \n",
       "3           Mumbai Indians  Royal Challengers Bangalore   \n",
       "4          Deccan Chargers        Kolkata Knight Riders   \n",
       "..                     ...                          ...   \n",
       "195   Kochi Tuskers Kerala        Kolkata Knight Riders   \n",
       "196        Kings XI Punjab             Rajasthan Royals   \n",
       "197         Mumbai Indians          Chennai Super Kings   \n",
       "198  Kolkata Knight Riders  Royal Challengers Bangalore   \n",
       "199       Delhi Daredevils              Kings XI Punjab   \n",
       "\n",
       "            defending_team                  toss_winner toss_decision  \\\n",
       "0    Kolkata Knight Riders  Royal Challengers Bangalore         field   \n",
       "1      Chennai Super Kings          Chennai Super Kings           bat   \n",
       "2         Rajasthan Royals             Rajasthan Royals           bat   \n",
       "3           Mumbai Indians               Mumbai Indians           bat   \n",
       "4          Deccan Chargers              Deccan Chargers           bat   \n",
       "..                     ...                          ...           ...   \n",
       "195   Kochi Tuskers Kerala        Kolkata Knight Riders         field   \n",
       "196        Kings XI Punjab             Rajasthan Royals         field   \n",
       "197         Mumbai Indians          Chennai Super Kings         field   \n",
       "198  Kolkata Knight Riders  Royal Challengers Bangalore         field   \n",
       "199       Delhi Daredevils              Kings XI Punjab         field   \n",
       "\n",
       "     first_innings_runs  first_innings_wickets  target_runs  \\\n",
       "0                   222                      3        223.0   \n",
       "1                   240                      5        241.0   \n",
       "2                   129                      8        130.0   \n",
       "3                   165                      6        166.0   \n",
       "4                   110                     10        111.0   \n",
       "..                  ...                    ...          ...   \n",
       "195                 132                      7        133.0   \n",
       "196                 195                      7        196.0   \n",
       "197                 164                      4        165.0   \n",
       "198                 171                      5        172.0   \n",
       "199                 231                      4        232.0   \n",
       "\n",
       "     required_run_rate                actual_winner  won_chasing  \\\n",
       "0                11.15        Kolkata Knight Riders            0   \n",
       "1                12.05          Chennai Super Kings            0   \n",
       "2                 6.50             Delhi Daredevils            1   \n",
       "3                 8.30  Royal Challengers Bangalore            1   \n",
       "4                 5.55        Kolkata Knight Riders            1   \n",
       "..                 ...                          ...          ...   \n",
       "195               6.65         Kochi Tuskers Kerala            0   \n",
       "196               9.80              Kings XI Punjab            0   \n",
       "197               8.25               Mumbai Indians            0   \n",
       "198               8.60  Royal Challengers Bangalore            1   \n",
       "199              11.60             Delhi Daredevils            0   \n",
       "\n",
       "     final_runs_chasing  runs_margin(if won chasing)  \n",
       "0                    82                          0.0  \n",
       "1                   207                          0.0  \n",
       "2                   132                          2.0  \n",
       "3                   166                          0.0  \n",
       "4                   112                          1.0  \n",
       "..                  ...                          ...  \n",
       "195                 126                          0.0  \n",
       "196                 147                          0.0  \n",
       "197                 156                          0.0  \n",
       "198                 175                          3.0  \n",
       "199                 202                          0.0  \n",
       "\n",
       "[200 rows x 16 columns]"
      ]
     },
     "execution_count": 75,
     "metadata": {},
     "output_type": "execute_result"
    }
   ],
   "source": [
    "features_df.head(200)"
   ]
  },
  {
   "cell_type": "markdown",
   "id": "f25a07b4",
   "metadata": {},
   "source": [
    "## 3.1 Data verification"
   ]
  },
  {
   "cell_type": "code",
   "execution_count": 76,
   "id": "4ea84fc1",
   "metadata": {},
   "outputs": [
    {
     "name": "stdout",
     "output_type": "stream",
     "text": [
      "Total matches in dataset: 1169\n",
      "Complete matches (2 innings): 1164\n",
      "Chasing wins: 621/1164 (53.4%)\n",
      "\n",
      "ACTUAL WINNER ANALYSIS:\n",
      "Successfully captured actual winner for 1164 matches\n",
      "\n",
      "TOP CHASING TEAMS:\n",
      "                             count   mean\n",
      "chasing_team                             \n",
      "Gujarat Lions                   16  0.750\n",
      "Royal Challengers Bengaluru     13  0.692\n",
      "Gujarat Titans                  33  0.667\n",
      "Chennai Super Kings            115  0.617\n",
      "Kolkata Knight Riders          138  0.580\n",
      "\n",
      "DETAILED SAMPLE MATCH ANALYSIS:\n",
      "Match ID: 335982\n",
      "Teams: Kolkata Knight Riders vs Royal Challengers Bangalore\n",
      "Toss: Royal Challengers Bangalore won and chose to field\n",
      "First innings: Kolkata Knight Riders - 222 runs\n",
      "Target: 223.0 runs for Royal Challengers Bangalore\n",
      "Result: Royal Challengers Bangalore LOST by chasing\n",
      "Actual Winner: Kolkata Knight Riders\n",
      "\n",
      "DATA QUALITY CHECK:\n",
      "Missing values in target variable: 0\n",
      "Missing values in team names: 0\n",
      "Seasons covered: [2008, 2009, 2010, 2011, 2012, 2013, 2014, 2015, 2016, 2017, 2018, 2019, 2020, 2021, 2022, 2023, 2024, 2025]\n",
      "\n",
      "Saved enhanced features to: outputs/ml_step1_features.csv\n"
     ]
    }
   ],
   "source": [
    "\n",
    "print(f\"Total matches in dataset: {df['match_id'].nunique()}\")\n",
    "print(f\"Complete matches (2 innings): {len(features_df)}\")\n",
    "\n",
    "# Check win distribution\n",
    "chasing_wins = features_df['won_chasing'].sum()\n",
    "chasing_matches = len(features_df)\n",
    "print(f\"Chasing wins: {chasing_wins}/{chasing_matches} ({chasing_wins/chasing_matches:.1%})\")\n",
    "\n",
    "# Check if we successfully captured actual winners\n",
    "print(f\"\\nACTUAL WINNER ANALYSIS:\")\n",
    "print(f\"Successfully captured actual winner for {features_df['actual_winner'].notna().sum()} matches\")\n",
    "\n",
    "# Most successful chasing teams\n",
    "print(f\"\\nTOP CHASING TEAMS:\")\n",
    "chasing_success = features_df.groupby('chasing_team')['won_chasing'].agg(['count', 'mean']).round(3)\n",
    "chasing_success = chasing_success[chasing_success['count'] >= 10]  # Minimum 10 chases\n",
    "top_chasers = chasing_success.nlargest(5, 'mean')\n",
    "print(top_chasers)\n",
    "\n",
    "\n",
    "# Sample match analysis with all details\n",
    "print(f\"\\nDETAILED SAMPLE MATCH ANALYSIS:\")\n",
    "sample_match = features_df.iloc[0]\n",
    "print(f\"Match ID: {sample_match['match_id']}\")\n",
    "print(f\"Teams: {sample_match['team_batting_first']} vs {sample_match['chasing_team']}\")\n",
    "print(f\"Toss: {sample_match['toss_winner']} won and chose to {sample_match['toss_decision']}\")\n",
    "print(f\"First innings: {sample_match['team_batting_first']} - {sample_match['first_innings_runs']} runs\")\n",
    "print(f\"Target: {sample_match['target_runs']} runs for {sample_match['chasing_team']}\")\n",
    "print(f\"Result: {sample_match['chasing_team']} {'WON' if sample_match['won_chasing'] else 'LOST'} by chasing\")\n",
    "print(f\"Actual Winner: {sample_match['actual_winner']}\")\n",
    "\n",
    "# Check data quality\n",
    "print(f\"\\nDATA QUALITY CHECK:\")\n",
    "print(f\"Missing values in target variable: {features_df['won_chasing'].isna().sum()}\")\n",
    "print(f\"Missing values in team names: {features_df[['team_batting_first', 'chasing_team']].isna().sum().sum()}\")\n",
    "print(f\"Seasons covered: {sorted(features_df['season'].unique())}\")\n",
    "\n",
    "# Save this enhanced features dataframe for next steps\n",
    "features_df.to_csv('outputs/ml_step1_features.csv', index=False)\n",
    "print(f\"\\nSaved enhanced features to: outputs/ml_step1_features.csv\")\n"
   ]
  },
  {
   "cell_type": "markdown",
   "id": "1557514d",
   "metadata": {},
   "source": [
    "## 3.2 Incorporating team strength"
   ]
  },
  {
   "cell_type": "code",
   "execution_count": 77,
   "id": "6c3d4c8c",
   "metadata": {},
   "outputs": [
    {
     "name": "stdout",
     "output_type": "stream",
     "text": [
      "Merging team strength data with match features...\n",
      "Calculating strength differentials...\n",
      "Added 12 team strength features\n",
      "\n",
      "TEAM STRENGTH FEATURES ADDED:\n",
      "Total features now: 46\n",
      "Dataset shape: (1164, 46)\n",
      "\n",
      "NEW STRENGTH FEATURES:\n",
      "  - chasing_overall_strength\n",
      "  - chasing_batting_strength\n",
      "  - chasing_bowling_strength\n",
      "  - chasing_allrounder_strength\n",
      "  - defending_overall_strength\n",
      "  - defending_batting_strength\n",
      "  - defending_bowling_strength\n",
      "  - defending_allrounder_strength\n",
      "  - overall_strength_diff\n",
      "  - batting_strength_diff\n",
      "  - bowling_strength_diff\n",
      "  - allrounder_strength_diff\n",
      "\n",
      "SAMPLE WITH STRENGTH FEATURES:\n",
      "                  chasing_team         defending_team  \\\n",
      "0  Royal Challengers Bangalore  Kolkata Knight Riders   \n",
      "1              Kings XI Punjab    Chennai Super Kings   \n",
      "2             Delhi Daredevils       Rajasthan Royals   \n",
      "3  Royal Challengers Bangalore         Mumbai Indians   \n",
      "4        Kolkata Knight Riders        Deccan Chargers   \n",
      "5             Rajasthan Royals        Kings XI Punjab   \n",
      "6             Delhi Daredevils        Deccan Chargers   \n",
      "7               Mumbai Indians    Chennai Super Kings   \n",
      "\n",
      "   chasing_overall_strength  defending_overall_strength  \\\n",
      "0                     61.30                       64.42   \n",
      "1                     67.94                       60.68   \n",
      "2                     61.43                       76.46   \n",
      "3                     61.30                       64.76   \n",
      "4                     64.42                       64.18   \n",
      "5                     76.46                       67.94   \n",
      "6                     61.43                       64.18   \n",
      "7                     64.76                       60.68   \n",
      "\n",
      "   overall_strength_diff  won_chasing  \n",
      "0                  -3.12            0  \n",
      "1                   7.26            0  \n",
      "2                 -15.03            1  \n",
      "3                  -3.46            1  \n",
      "4                   0.24            1  \n",
      "5                   8.51            1  \n",
      "6                  -2.75            1  \n",
      "7                   4.07            0  \n"
     ]
    }
   ],
   "source": [
    "def add_team_strength_features(features_df, team_strength_df):\n",
    "    \"\"\"\n",
    "    Step 2: Enhance match features with team strength data\n",
    "    This adds intelligence about how good each team actually is\n",
    "    \"\"\"\n",
    "    print(\"Merging team strength data with match features...\")\n",
    "    \n",
    "    # Make a copy to avoid modifying original\n",
    "    features_enhanced = features_df.copy()\n",
    "    \n",
    "    # For CHASING TEAM strength features\n",
    "    features_enhanced = pd.merge(\n",
    "        features_enhanced,\n",
    "        team_strength_df,\n",
    "        left_on=['chasing_team', 'season'],\n",
    "        right_on=['Team', 'Season'],\n",
    "        how='left'\n",
    "    )\n",
    "    \n",
    "    # Rename chasing team strength columns\n",
    "    chasing_rename_dict = {\n",
    "        'Overall_Strength': 'chasing_overall_strength',\n",
    "        'Batting_Strength': 'chasing_batting_strength',\n",
    "        'Bowling_Strength': 'chasing_bowling_strength',\n",
    "        'AllRounder_Strength': 'chasing_allrounder_strength',\n",
    "        'Team_Balance': 'chasing_team_balance',\n",
    "        'Game_Changers': 'chasing_game_changers',\n",
    "        'Squad_Depth': 'chasing_squad_depth'\n",
    "    }\n",
    "    \n",
    "    features_enhanced = features_enhanced.rename(columns=chasing_rename_dict)\n",
    "    \n",
    "    # For DEFENDING TEAM strength features\n",
    "    features_enhanced = pd.merge(\n",
    "        features_enhanced,\n",
    "        team_strength_df,\n",
    "        left_on=['defending_team', 'season'],\n",
    "        right_on=['Team', 'Season'],\n",
    "        how='left',\n",
    "        suffixes=('', '_def')\n",
    "    )\n",
    "    \n",
    "    # Rename defending team strength columns\n",
    "    defending_rename_dict = {\n",
    "        'Overall_Strength': 'defending_overall_strength',\n",
    "        'Batting_Strength': 'defending_batting_strength',\n",
    "        'Bowling_Strength': 'defending_bowling_strength',\n",
    "        'AllRounder_Strength': 'defending_allrounder_strength',\n",
    "        'Team_Balance': 'defending_team_balance',\n",
    "        'Game_Changers': 'defending_game_changers',\n",
    "        'Squad_Depth': 'defending_squad_depth'\n",
    "    }\n",
    "    \n",
    "    features_enhanced = features_enhanced.rename(columns=defending_rename_dict)\n",
    "    \n",
    "    # Calculate STRENGTH DIFFERENTIALS (very important for ML!)\n",
    "    print(\"Calculating strength differentials...\")\n",
    "    \n",
    "    features_enhanced['overall_strength_diff'] = (\n",
    "        features_enhanced['chasing_overall_strength'] - features_enhanced['defending_overall_strength']\n",
    "    )\n",
    "    features_enhanced['batting_strength_diff'] = (\n",
    "        features_enhanced['chasing_batting_strength'] - features_enhanced['defending_batting_strength']\n",
    "    )\n",
    "    features_enhanced['bowling_strength_diff'] = (\n",
    "        features_enhanced['chasing_bowling_strength'] - features_enhanced['defending_bowling_strength']\n",
    "    )\n",
    "    features_enhanced['allrounder_strength_diff'] = (\n",
    "        features_enhanced['chasing_allrounder_strength'] - features_enhanced['defending_allrounder_strength']\n",
    "    )\n",
    "    \n",
    "    # Fill missing values (for teams without strength data)\n",
    "    strength_columns = [\n",
    "        'chasing_overall_strength', 'chasing_batting_strength', 'chasing_bowling_strength',\n",
    "        'defending_overall_strength', 'defending_batting_strength', 'defending_bowling_strength',\n",
    "        'overall_strength_diff', 'batting_strength_diff', 'bowling_strength_diff'\n",
    "    ]\n",
    "    \n",
    "    for col in strength_columns:\n",
    "        features_enhanced[col] = features_enhanced[col].fillna(0)\n",
    "    \n",
    "    # Drop redundant columns from merge\n",
    "    features_enhanced = features_enhanced.drop(['Team', 'Season', 'Team_def', 'Season_def'], axis=1, errors='ignore')\n",
    "    \n",
    "    print(f\"Added {len([col for col in features_enhanced.columns if 'strength' in col])} team strength features\")\n",
    "    return features_enhanced\n",
    "\n",
    "# Execute Step 2\n",
    "features_with_strength = add_team_strength_features(features_df, team_strength_enhanced)\n",
    "\n",
    "# Display what we added\n",
    "print(\"\\nTEAM STRENGTH FEATURES ADDED:\")\n",
    "print(f\"Total features now: {len(features_with_strength.columns)}\")\n",
    "print(f\"Dataset shape: {features_with_strength.shape}\")\n",
    "\n",
    "# Show the new strength-related columns\n",
    "strength_cols = [col for col in features_with_strength.columns if 'strength' in col]\n",
    "print(f\"\\nNEW STRENGTH FEATURES:\")\n",
    "for col in strength_cols:\n",
    "    print(f\"  - {col}\")\n",
    "\n",
    "print(f\"\\nSAMPLE WITH STRENGTH FEATURES:\")\n",
    "sample_cols = ['chasing_team', 'defending_team', 'chasing_overall_strength', \n",
    "               'defending_overall_strength', 'overall_strength_diff', 'won_chasing']\n",
    "print(features_with_strength[sample_cols].head(8).round(2))"
   ]
  },
  {
   "cell_type": "markdown",
   "id": "d071be3e",
   "metadata": {},
   "source": [
    "### 3.2.1 Testing"
   ]
  },
  {
   "cell_type": "code",
   "execution_count": 78,
   "id": "9cb82d2d",
   "metadata": {},
   "outputs": [
    {
     "name": "stdout",
     "output_type": "stream",
     "text": [
      "Correlation between strength difference and winning: 0.177\n",
      "\n",
      "🎯 WIN RATES BY STRENGTH ADVANTAGE:\n",
      "                    count   mean\n",
      "strength_advantage              \n",
      "Balanced              864  0.519\n",
      "Strong Chaser         136  0.735\n",
      "Strong Defender       164  0.445\n",
      "\n",
      "STRONGEST TEAMS ANALYSIS:\n",
      "                              mean  count\n",
      "Team                                     \n",
      "Royal Challengers Bengaluru  68.49      2\n",
      "Punjab Kings                 66.30      5\n",
      "Kolkata Knight Riders        66.09     18\n",
      "Deccan Chargers              66.07      5\n",
      "Rising Pune Supergiant       65.85      1\n",
      "Chennai Super Kings          65.78     16\n",
      "Mumbai Indians               65.76     18\n",
      "Royal Challengers Bangalore  65.16     16\n",
      "\n",
      "SAMPLE MATCH WITH STRENGTH ANALYSIS:\n",
      "Match: Royal Challengers Bangalore vs Kolkata Knight Riders\n",
      "Chasing Strength: 61.3\n",
      "Defending Strength: 64.4\n",
      "Strength Difference: -3.1\n",
      "Target: 223.0 runs\n",
      "Result: LOST while chasing\n",
      "Strength suggested: UNDERDOG\n",
      "\n",
      "DATA QUALITY CHECK:\n",
      "Matches with team strength data: 1164/1164 (100.0%)\n",
      "\n",
      "Saved features with team strength to: outputs/ml_step2_features_with_strength.csv\n"
     ]
    }
   ],
   "source": [
    "# Check strength correlation with winning\n",
    "if 'overall_strength_diff' in features_with_strength.columns:\n",
    "    correlation = features_with_strength['overall_strength_diff'].corr(features_with_strength['won_chasing'])\n",
    "    print(f\"Correlation between strength difference and winning: {correlation:.3f}\")\n",
    "\n",
    "# Win rates by strength advantage\n",
    "print(f\"\\n🎯 WIN RATES BY STRENGTH ADVANTAGE:\")\n",
    "features_with_strength['strength_advantage'] = np.where(\n",
    "    features_with_strength['overall_strength_diff'] > 5, 'Strong Chaser',\n",
    "    np.where(features_with_strength['overall_strength_diff'] < -5, 'Strong Defender', 'Balanced')\n",
    ")\n",
    "\n",
    "win_rates_by_strength = features_with_strength.groupby('strength_advantage')['won_chasing'].agg(['count', 'mean'])\n",
    "print(win_rates_by_strength.round(3))\n",
    "\n",
    "# Top strongest teams analysis\n",
    "print(f\"\\nSTRONGEST TEAMS ANALYSIS:\")\n",
    "team_strength_summary = team_strength_enhanced.groupby('Team')['Overall_Strength'].agg(['mean', 'count']).round(2)\n",
    "strongest_teams = team_strength_summary.nlargest(8, 'mean')\n",
    "print(strongest_teams)\n",
    "\n",
    "# Sample match analysis with strength context\n",
    "print(f\"\\nSAMPLE MATCH WITH STRENGTH ANALYSIS:\")\n",
    "sample_match = features_with_strength.iloc[0]\n",
    "print(f\"Match: {sample_match['chasing_team']} vs {sample_match['defending_team']}\")\n",
    "print(f\"Chasing Strength: {sample_match['chasing_overall_strength']:.1f}\")\n",
    "print(f\"Defending Strength: {sample_match['defending_overall_strength']:.1f}\")\n",
    "print(f\"Strength Difference: {sample_match['overall_strength_diff']:+.1f}\")\n",
    "print(f\"Target: {sample_match['target_runs']} runs\")\n",
    "print(f\"Result: {'WON' if sample_match['won_chasing'] else 'LOST'} while chasing\")\n",
    "print(f\"Strength suggested: {'FAVORITE' if sample_match['overall_strength_diff'] > 0 else 'UNDERDOG'}\")\n",
    "\n",
    "# Check for any missing strength data\n",
    "missing_strength = features_with_strength['chasing_overall_strength'].isna().sum()\n",
    "total_matches = len(features_with_strength)\n",
    "print(f\"\\nDATA QUALITY CHECK:\")\n",
    "print(f\"Matches with team strength data: {total_matches - missing_strength}/{total_matches} ({(total_matches - missing_strength)/total_matches:.1%})\")\n",
    "\n",
    "# Save the enhanced dataset\n",
    "features_with_strength.to_csv('outputs/ml_step2_features_with_strength.csv', index=False)\n",
    "print(f\"\\nSaved features with team strength to: outputs/ml_step2_features_with_strength.csv\")"
   ]
  },
  {
   "cell_type": "markdown",
   "id": "cb5f480e",
   "metadata": {},
   "source": []
  },
  {
   "cell_type": "markdown",
   "id": "6b24dd50",
   "metadata": {},
   "source": [
    "## 3.3 Pre-processing for ML - encoding, scaling, splitting"
   ]
  },
  {
   "cell_type": "code",
   "execution_count": 79,
   "id": "044cd4a1",
   "metadata": {},
   "outputs": [
    {
     "name": "stdout",
     "output_type": "stream",
     "text": [
      "Preprocessing data for machine learning...\n",
      "Encoding categorical variables...\n",
      "  - Encoded venue: 59 unique values\n",
      "  - Encoded chasing_team: 19 unique values\n",
      "  - Encoded defending_team: 19 unique values\n",
      "  - Encoded toss_winner: 19 unique values\n",
      "  - Encoded toss_decision: 2 unique values\n",
      "\n",
      "Selecting final feature set...\n",
      "  - Selected 21 features for ML\n",
      "\n",
      "Handling missing values...\n",
      "  - Fixed 0 missing values\n",
      "\n",
      "Creating train/test split...\n",
      "  - Training set: 931 matches\n",
      "  - Test set: 233 matches\n",
      "  - Win rate in training: 53.4%\n",
      "  - Win rate in test: 53.2%\n",
      "\n",
      "Applying feature scaling...\n",
      "  - Features scaled to standard normal distribution\n"
     ]
    }
   ],
   "source": [
    "def preprocess_for_ml(features_with_strength):\n",
    "    \"\"\"\n",
    "    Step 3: Prepare features for ML models by:\n",
    "    - Encoding categorical variables\n",
    "    - Selecting final feature set\n",
    "    - Handling missing values\n",
    "    - Creating train/test split\n",
    "    \"\"\"\n",
    "    print(\"Preprocessing data for machine learning...\")\n",
    "    \n",
    "    # Make a copy to avoid modifying original\n",
    "    df_processed = features_with_strength.copy()\n",
    "    \n",
    "    # 1. HANDLE CATEGORICAL VARIABLES (Encode text to numbers)\n",
    "    print(\"Encoding categorical variables...\")\n",
    "    \n",
    "    from sklearn.preprocessing import LabelEncoder\n",
    "    \n",
    "    # Initialize label encoders (we'll save these for later predictions)\n",
    "    label_encoders = {}\n",
    "    \n",
    "    categorical_columns = ['venue', 'chasing_team', 'defending_team', 'toss_winner', 'toss_decision']\n",
    "    \n",
    "    for col in categorical_columns:\n",
    "        if col in df_processed.columns:\n",
    "            le = LabelEncoder()\n",
    "            df_processed[col + '_encoded'] = le.fit_transform(df_processed[col].astype(str))\n",
    "            label_encoders[col] = le\n",
    "            print(f\"  - Encoded {col}: {len(le.classes_)} unique values\")\n",
    "    \n",
    "    # 2. SELECT FINAL FEATURE SET FOR ML\n",
    "    print(\"\\nSelecting final feature set...\")\n",
    "    \n",
    "    # These are the features our ML model will use\n",
    "    feature_columns = [\n",
    "        # Match context features\n",
    "        'target_runs',\n",
    "        'first_innings_runs', \n",
    "        'first_innings_wickets',\n",
    "        'required_run_rate',\n",
    "        \n",
    "        # Toss and decision features\n",
    "        'is_toss_winner_chasing',\n",
    "        'is_batting_first_won_toss',\n",
    "        \n",
    "        # Team strength features (from Step 2)\n",
    "        'chasing_overall_strength',\n",
    "        'defending_overall_strength', \n",
    "        'chasing_batting_strength',\n",
    "        'defending_bowling_strength',\n",
    "        'chasing_bowling_strength',\n",
    "        'defending_batting_strength',\n",
    "        'chasing_allrounder_strength',\n",
    "        'defending_allrounder_strength',\n",
    "        \n",
    "        # Strength differentials (very important!)\n",
    "        'overall_strength_diff',\n",
    "        'batting_strength_diff', \n",
    "        'bowling_strength_diff',\n",
    "        'allrounder_strength_diff',\n",
    "        \n",
    "        # Encoded categorical features\n",
    "        'venue_encoded',\n",
    "        'chasing_team_encoded',\n",
    "        'defending_team_encoded', \n",
    "        'toss_winner_encoded',\n",
    "        'toss_decision_encoded'\n",
    "    ]\n",
    "    \n",
    "    # Only include columns that actually exist in our data\n",
    "    available_features = [col for col in feature_columns if col in df_processed.columns]\n",
    "    print(f\"  - Selected {len(available_features)} features for ML\")\n",
    "    \n",
    "    # 3. HANDLE MISSING VALUES\n",
    "    print(\"\\nHandling missing values...\")\n",
    "    \n",
    "    # Separate features and target\n",
    "    X = df_processed[available_features].copy()\n",
    "    y = df_processed['won_chasing']\n",
    "    \n",
    "    # Fill any remaining missing values\n",
    "    missing_before = X.isna().sum().sum()\n",
    "    X = X.fillna(X.mean())  # Fill numeric columns with mean\n",
    "    missing_after = X.isna().sum().sum()\n",
    "    print(f\"  - Fixed {missing_before} missing values\")\n",
    "    \n",
    "    # 4. CREATE TRAIN/TEST SPLIT\n",
    "    print(\"\\nCreating train/test split...\")\n",
    "    \n",
    "    from sklearn.model_selection import train_test_split\n",
    "    \n",
    "    # Split data: 80% for training, 20% for testing\n",
    "    X_train, X_test, y_train, y_test = train_test_split(\n",
    "        X, y, \n",
    "        test_size=0.2, \n",
    "        random_state=42,  # For reproducible results\n",
    "        stratify=y       # Maintain same win/loss ratio in both sets\n",
    "    )\n",
    "    \n",
    "    print(f\"  - Training set: {X_train.shape[0]} matches\")\n",
    "    print(f\"  - Test set: {X_test.shape[0]} matches\")\n",
    "    print(f\"  - Win rate in training: {y_train.mean():.1%}\")\n",
    "    print(f\"  - Win rate in test: {y_test.mean():.1%}\")\n",
    "    \n",
    "    # 5. FEATURE SCALING (Important for some models)\n",
    "    print(\"\\nApplying feature scaling...\")\n",
    "    \n",
    "    from sklearn.preprocessing import StandardScaler\n",
    "    \n",
    "    scaler = StandardScaler()\n",
    "    \n",
    "    # Fit scaler on training data only, then transform both\n",
    "    X_train_scaled = scaler.fit_transform(X_train)\n",
    "    X_test_scaled = scaler.transform(X_test)\n",
    "    \n",
    "    # Convert back to DataFrames for better readability\n",
    "    X_train_scaled = pd.DataFrame(X_train_scaled, columns=X_train.columns, index=X_train.index)\n",
    "    X_test_scaled = pd.DataFrame(X_test_scaled, columns=X_test.columns, index=X_test.index)\n",
    "    \n",
    "    print(\"  - Features scaled to standard normal distribution\")\n",
    "    \n",
    "    return {\n",
    "        'X_train': X_train,\n",
    "        'X_test': X_test,\n",
    "        'X_train_scaled': X_train_scaled,\n",
    "        'X_test_scaled': X_test_scaled,\n",
    "        'y_train': y_train,\n",
    "        'y_test': y_test,\n",
    "        'feature_names': available_features,\n",
    "        'label_encoders': label_encoders,\n",
    "        'scaler': scaler,\n",
    "        'original_data': df_processed\n",
    "    }\n",
    "\n",
    "# Execute Step 3\n",
    "ml_data = preprocess_for_ml(features_with_strength)\n"
   ]
  },
  {
   "cell_type": "markdown",
   "id": "c574b2c0",
   "metadata": {},
   "source": [
    "### 3.3.1 Testing"
   ]
  },
  {
   "cell_type": "code",
   "execution_count": 80,
   "id": "5d2bc66a",
   "metadata": {},
   "outputs": [
    {
     "name": "stdout",
     "output_type": "stream",
     "text": [
      "FEATURE STATISTICS (Training Set):\n",
      "                               mean     std     min      max\n",
      "target_runs                 166.844  34.161  43.000  288.000\n",
      "first_innings_runs          166.596  32.946  62.000  287.000\n",
      "first_innings_wickets         6.164   2.142   0.000   10.000\n",
      "required_run_rate             8.342   1.708   2.150   14.400\n",
      "chasing_overall_strength     65.202   3.215  56.748   76.459\n",
      "defending_overall_strength   65.409   3.200  56.748   76.459\n",
      "chasing_batting_strength     69.850   2.916  64.553   77.720\n",
      "defending_bowling_strength   72.172   3.374  65.455   81.265\n",
      "chasing_bowling_strength     71.952   3.254  65.455   81.265\n",
      "defending_batting_strength   69.987   2.996  64.553   77.720\n",
      "\n",
      "KEY FEATURE DISTRIBUTIONS:\n",
      "  - target_runs: 166.8 ± 34.2 (range: 43.0-288.0)\n",
      "  - overall_strength_diff: -0.2 ± 4.6 (range: -15.8-15.8)\n",
      "  - required_run_rate: 8.3 ± 1.7 (range: 2.1-14.4)\n",
      "  - first_innings_runs: 166.6 ± 32.9 (range: 62.0-287.0)\n",
      "\n",
      "FEATURE CORRELATION WITH WINNING:\n",
      "Top 10 features by correlation with winning:\n",
      "  - first_innings_runs: -0.428\n",
      "  - target_runs: -0.422\n",
      "  - required_run_rate: -0.422\n",
      "  - batting_strength_diff: +0.285\n",
      "  - first_innings_wickets: +0.275\n",
      "  - bowling_strength_diff: +0.269\n",
      "  - defending_batting_strength: -0.207\n",
      "  - chasing_batting_strength: +0.199\n",
      "  - defending_bowling_strength: -0.198\n",
      "  - chasing_bowling_strength: +0.189\n",
      "\n",
      "DATA QUALITY CHECK:\n",
      "Total matches for ML: 1164\n",
      "Features per match: 21\n",
      "Missing values in training: 0\n",
      "Missing values in test: 0\n",
      "\n",
      "Saved preprocessed data to: outputs/ml_step3_preprocessed_data.pkl\n",
      "Saved feature correlations to: outputs/ml_feature_correlations.csv\n"
     ]
    }
   ],
   "source": [
    "# Feature statistics\n",
    "print(\"FEATURE STATISTICS (Training Set):\")\n",
    "feature_stats = ml_data['X_train'].describe().T[['mean', 'std', 'min', 'max']].round(3)\n",
    "print(feature_stats.head(10))\n",
    "\n",
    "# Check feature distributions\n",
    "print(f\"\\nKEY FEATURE DISTRIBUTIONS:\")\n",
    "key_features = ['target_runs', 'overall_strength_diff', 'required_run_rate', 'first_innings_runs']\n",
    "for feature in key_features:\n",
    "    if feature in ml_data['X_train'].columns:\n",
    "        stats = ml_data['X_train'][feature].describe()\n",
    "        print(f\"  - {feature}: {stats['mean']:.1f} ± {stats['std']:.1f} (range: {stats['min']:.1f}-{stats['max']:.1f})\")\n",
    "\n",
    "# Check correlation with target\n",
    "print(f\"\\nFEATURE CORRELATION WITH WINNING:\")\n",
    "correlations = []\n",
    "for feature in ml_data['X_train'].columns:\n",
    "    corr = ml_data['X_train'][feature].corr(ml_data['y_train'])\n",
    "    correlations.append((feature, corr))\n",
    "\n",
    "# Sort by absolute correlation strength\n",
    "correlations.sort(key=lambda x: abs(x[1]), reverse=True)\n",
    "print(\"Top 10 features by correlation with winning:\")\n",
    "for feature, corr in correlations[:10]:\n",
    "    print(f\"  - {feature}: {corr:+.3f}\")\n",
    "\n",
    "# Data quality check\n",
    "print(f\"\\nDATA QUALITY CHECK:\")\n",
    "print(f\"Total matches for ML: {len(ml_data['X_train']) + len(ml_data['X_test'])}\")\n",
    "print(f\"Features per match: {len(ml_data['feature_names'])}\")\n",
    "print(f\"Missing values in training: {ml_data['X_train'].isna().sum().sum()}\")\n",
    "print(f\"Missing values in test: {ml_data['X_test'].isna().sum().sum()}\")\n",
    "\n",
    "# Save the preprocessed data\n",
    "import pickle\n",
    "\n",
    "with open('outputs/ml_step3_preprocessed_data.pkl', 'wb') as f:\n",
    "    pickle.dump(ml_data, f)\n",
    "\n",
    "print(f\"\\nSaved preprocessed data to: outputs/ml_step3_preprocessed_data.pkl\")\n",
    "\n",
    "# Save feature names for reference\n",
    "feature_info = pd.DataFrame({\n",
    "    'feature_name': ml_data['feature_names'],\n",
    "    'correlation_with_target': [ml_data['X_train'][feat].corr(ml_data['y_train']) for feat in ml_data['feature_names']]\n",
    "}).sort_values('correlation_with_target', key=abs, ascending=False)\n",
    "\n",
    "feature_info.to_csv('outputs/ml_feature_correlations.csv', index=False)\n",
    "print(f\"Saved feature correlations to: outputs/ml_feature_correlations.csv\")"
   ]
  },
  {
   "cell_type": "markdown",
   "id": "501b0a89",
   "metadata": {},
   "source": [
    "### 3.3.2 Ready data"
   ]
  },
  {
   "cell_type": "code",
   "execution_count": 81,
   "id": "12b86dd4",
   "metadata": {},
   "outputs": [
    {
     "name": "stdout",
     "output_type": "stream",
     "text": [
      "One match as seen by ML model:\n",
      "Target: LOSE while chasing\n",
      "\n",
      "Feature values:\n",
      "  - target_runs: 169.00\n",
      "  - overall_strength_diff: -0.38\n",
      "  - required_run_rate: 8.45\n",
      "  - first_innings_runs: 168.00\n",
      "\n",
      "Original match context:\n",
      "  - Teams: Rising Pune Supergiant vs Delhi Daredevils\n",
      "  - Target: 169.0 runs\n",
      "  - Venue: Feroz Shah Kotla\n",
      "  - Actual result: LOST\n",
      "\n",
      "FINAL DATA SHAPES:\n",
      "X_train: (931, 21)\n",
      "X_test:  (233, 21)\n",
      "y_train: (931,)\n",
      "y_test:  (233,)\n"
     ]
    }
   ],
   "source": [
    "# Show what one match looks like to the ML model\n",
    "sample_idx = 0\n",
    "sample_features = ml_data['X_train'].iloc[sample_idx]\n",
    "sample_target = ml_data['y_train'].iloc[sample_idx]\n",
    "\n",
    "print(\"One match as seen by ML model:\")\n",
    "print(f\"Target: {'WIN' if sample_target == 1 else 'LOSE'} while chasing\")\n",
    "print(\"\\nFeature values:\")\n",
    "for feature in ['target_runs', 'overall_strength_diff', 'required_run_rate', 'first_innings_runs']:\n",
    "    if feature in sample_features.index:\n",
    "        print(f\"  - {feature}: {sample_features[feature]:.2f}\")\n",
    "\n",
    "# Show the original match details for context\n",
    "original_match = ml_data['original_data'].iloc[ml_data['X_train'].index[sample_idx]]\n",
    "print(f\"\\nOriginal match context:\")\n",
    "print(f\"  - Teams: {original_match['chasing_team']} vs {original_match['defending_team']}\")\n",
    "print(f\"  - Target: {original_match['target_runs']} runs\")\n",
    "print(f\"  - Venue: {original_match['venue']}\")\n",
    "print(f\"  - Actual result: {'WON' if original_match['won_chasing'] == 1 else 'LOST'}\")\n",
    "\n",
    "print(f\"\\nFINAL DATA SHAPES:\")\n",
    "print(f\"X_train: {ml_data['X_train'].shape}\")\n",
    "print(f\"X_test:  {ml_data['X_test'].shape}\")\n",
    "print(f\"y_train: {ml_data['y_train'].shape}\")\n",
    "print(f\"y_test:  {ml_data['y_test'].shape}\")"
   ]
  },
  {
   "cell_type": "markdown",
   "id": "aeaefe2a",
   "metadata": {},
   "source": [
    "# 4. Tarining models"
   ]
  },
  {
   "cell_type": "code",
   "execution_count": 82,
   "id": "ee5c77b2",
   "metadata": {},
   "outputs": [
    {
     "name": "stdout",
     "output_type": "stream",
     "text": [
      "Training multiple machine learning models...\n",
      "Training models...\n",
      "  - Training Logistic Regression...\n",
      " Accuracy: 0.700, CV Score: 0.684 ± 0.034\n",
      "  - Training Random Forest...\n",
      " Accuracy: 0.678, CV Score: 0.671 ± 0.037\n",
      "  - Training Gradient Boosting...\n",
      " Accuracy: 0.704, CV Score: 0.687 ± 0.025\n",
      "  - Training XGBoost...\n",
      " Accuracy: 0.670, CV Score: 0.663 ± 0.028\n",
      "  - Training K-Nearest Neighbors...\n",
      " Accuracy: 0.609, CV Score: 0.638 ± 0.037\n",
      "  - Training Support Vector Machine...\n",
      " Accuracy: 0.721, CV Score: 0.684 ± 0.028\n"
     ]
    }
   ],
   "source": [
    "def train_and_compare_models(ml_data):\n",
    "    \"\"\"\n",
    "    Step 4: Train multiple ML models and compare their performance\n",
    "    \"\"\"\n",
    "    print(\"Training multiple machine learning models...\")\n",
    "    \n",
    "    from sklearn.linear_model import LogisticRegression\n",
    "    from sklearn.ensemble import RandomForestClassifier, GradientBoostingClassifier\n",
    "    from sklearn.svm import SVC\n",
    "    from sklearn.neighbors import KNeighborsClassifier\n",
    "    from xgboost import XGBClassifier\n",
    "    from sklearn.metrics import accuracy_score, classification_report, confusion_matrix\n",
    "    from sklearn.model_selection import cross_val_score\n",
    "    \n",
    "    # Extract data\n",
    "    X_train = ml_data['X_train']\n",
    "    X_test = ml_data['X_test']\n",
    "    X_train_scaled = ml_data['X_train_scaled']\n",
    "    X_test_scaled = ml_data['X_test_scaled']\n",
    "    y_train = ml_data['y_train']\n",
    "    y_test = ml_data['y_test']\n",
    "    \n",
    "    # Define our models with basic parameters\n",
    "    models = {\n",
    "        'Logistic Regression': LogisticRegression(random_state=42, max_iter=1000),\n",
    "        'Random Forest': RandomForestClassifier(n_estimators=100, random_state=42),\n",
    "        'Gradient Boosting': GradientBoostingClassifier(n_estimators=100, random_state=42),\n",
    "        'XGBoost': XGBClassifier(random_state=42, eval_metric='logloss'),\n",
    "        'K-Nearest Neighbors': KNeighborsClassifier(n_neighbors=5),\n",
    "        'Support Vector Machine': SVC(random_state=42, probability=True)\n",
    "    }\n",
    "    \n",
    "    # Store results\n",
    "    results = {}\n",
    "    trained_models = {}\n",
    "    \n",
    "    print(\"Training models...\")\n",
    "    for name, model in models.items():\n",
    "        print(f\"  - Training {name}...\")\n",
    "        \n",
    "        # Use scaled data for models that need it\n",
    "        if name in ['Logistic Regression', 'K-Nearest Neighbors', 'Support Vector Machine']:\n",
    "            X_tr = X_train_scaled\n",
    "            X_te = X_test_scaled\n",
    "        else:\n",
    "            X_tr = X_train\n",
    "            X_te = X_test\n",
    "        \n",
    "        # Train the model\n",
    "        model.fit(X_tr, y_train)\n",
    "        \n",
    "        # Make predictions\n",
    "        y_pred = model.predict(X_te)\n",
    "        y_pred_proba = model.predict_proba(X_te)[:, 1] if hasattr(model, 'predict_proba') else None\n",
    "        \n",
    "        # Calculate metrics\n",
    "        accuracy = accuracy_score(y_test, y_pred)\n",
    "        \n",
    "        # Cross-validation score (more reliable)\n",
    "        cv_scores = cross_val_score(model, X_tr, y_train, cv=5, scoring='accuracy')\n",
    "        \n",
    "        # Store results\n",
    "        results[name] = {\n",
    "            'model': model,\n",
    "            'accuracy': accuracy,\n",
    "            'cv_mean': cv_scores.mean(),\n",
    "            'cv_std': cv_scores.std(),\n",
    "            'y_pred': y_pred,\n",
    "            'y_pred_proba': y_pred_proba\n",
    "        }\n",
    "        \n",
    "        trained_models[name] = model\n",
    "        \n",
    "        print(f\" Accuracy: {accuracy:.3f}, CV Score: {cv_scores.mean():.3f} ± {cv_scores.std():.3f}\")\n",
    "    \n",
    "    return results, trained_models\n",
    "\n",
    "# Execute Step 4\n",
    "results, trained_models = train_and_compare_models(ml_data)\n"
   ]
  },
  {
   "cell_type": "markdown",
   "id": "13eb0edd",
   "metadata": {},
   "source": [
    "## 4.1 Model performance"
   ]
  },
  {
   "cell_type": "code",
   "execution_count": 83,
   "id": "e896da9d",
   "metadata": {},
   "outputs": [
    {
     "name": "stdout",
     "output_type": "stream",
     "text": [
      "MODEL PERFORMANCE RANKING:\n",
      "                    Model  Test Accuracy  CV Accuracy (Mean)  \\\n",
      "5  Support Vector Machine          0.721               0.684   \n",
      "2       Gradient Boosting          0.704               0.687   \n",
      "0     Logistic Regression          0.700               0.684   \n",
      "1           Random Forest          0.678               0.671   \n",
      "3                 XGBoost          0.670               0.663   \n",
      "4     K-Nearest Neighbors          0.609               0.638   \n",
      "\n",
      "   CV Accuracy (Std)  \n",
      "5              0.028  \n",
      "2              0.025  \n",
      "0              0.034  \n",
      "1              0.037  \n",
      "3              0.028  \n",
      "4              0.037  \n"
     ]
    }
   ],
   "source": [
    "from sklearn.metrics import classification_report, confusion_matrix\n",
    "import seaborn as sns\n",
    "\n",
    "# Create performance comparison table\n",
    "performance_df = pd.DataFrame({\n",
    "    'Model': list(results.keys()),\n",
    "    'Test Accuracy': [results[name]['accuracy'] for name in results.keys()],\n",
    "    'CV Accuracy (Mean)': [results[name]['cv_mean'] for name in results.keys()],\n",
    "    'CV Accuracy (Std)': [results[name]['cv_std'] for name in results.keys()]\n",
    "}).sort_values('Test Accuracy', ascending=False)\n",
    "\n",
    "print(\"MODEL PERFORMANCE RANKING:\")\n",
    "print(performance_df.round(3))\n"
   ]
  },
  {
   "cell_type": "markdown",
   "id": "5c89e375",
   "metadata": {},
   "source": [
    "### 4.1.1 Best model"
   ]
  },
  {
   "cell_type": "code",
   "execution_count": 84,
   "id": "4e0fc72d",
   "metadata": {},
   "outputs": [
    {
     "name": "stdout",
     "output_type": "stream",
     "text": [
      "\n",
      " BEST MODEL: Support Vector Machine\n",
      "   Test Accuracy: 0.721\n",
      "   CV Accuracy: 0.684\n",
      "\n",
      "DETAILED ANALYSIS OF BEST MODEL (Support Vector Machine):\n",
      "Classification Report:\n",
      "              precision    recall  f1-score   support\n",
      "\n",
      "           0       0.71      0.68      0.69       109\n",
      "           1       0.73      0.76      0.74       124\n",
      "\n",
      "    accuracy                           0.72       233\n",
      "   macro avg       0.72      0.72      0.72       233\n",
      "weighted avg       0.72      0.72      0.72       233\n",
      "\n",
      "Confusion Matrix:\n",
      "[[74 35]\n",
      " [30 94]]\n"
     ]
    },
    {
     "data": {
      "image/png": "[encoded data removed]",
      "text/plain": [
       "<Figure size 800x600 with 2 Axes>"
      ]
     },
     "metadata": {},
     "output_type": "display_data"
    }
   ],
   "source": [
    "\n",
    "# Identify best model\n",
    "best_model_name = performance_df.iloc[0]['Model']\n",
    "best_model = results[best_model_name]['model']\n",
    "best_accuracy = performance_df.iloc[0]['Test Accuracy']\n",
    "\n",
    "print(f\"\\n BEST MODEL: {best_model_name}\")\n",
    "print(f\"   Test Accuracy: {best_accuracy:.3f}\")\n",
    "print(f\"   CV Accuracy: {performance_df.iloc[0]['CV Accuracy (Mean)']:.3f}\")\n",
    "\n",
    "# Detailed analysis of best model\n",
    "print(f\"\\nDETAILED ANALYSIS OF BEST MODEL ({best_model_name}):\")\n",
    "\n",
    "# Use scaled data if needed for best model\n",
    "if best_model_name in ['Logistic Regression', 'K-Nearest Neighbors', 'Support Vector Machine']:\n",
    "    X_test_for_best = ml_data['X_test_scaled']\n",
    "else:\n",
    "    X_test_for_best = ml_data['X_test']\n",
    "\n",
    "y_pred_best = results[best_model_name]['y_pred']\n",
    "y_pred_proba_best = results[best_model_name]['y_pred_proba']\n",
    "\n",
    "print(\"Classification Report:\")\n",
    "print(classification_report(ml_data['y_test'], y_pred_best))\n",
    "\n",
    "# Confusion Matrix\n",
    "print(\"Confusion Matrix:\")\n",
    "cm = confusion_matrix(ml_data['y_test'], y_pred_best)\n",
    "print(cm)\n",
    "\n",
    "# Plot confusion matrix\n",
    "plt.figure(figsize=(8, 6))\n",
    "sns.heatmap(cm, annot=True, fmt='d', cmap='Blues', \n",
    "            xticklabels=['Lose', 'Win'], \n",
    "            yticklabels=['Lose', 'Win'])\n",
    "plt.title(f'Confusion Matrix - {best_model_name}')\n",
    "plt.ylabel('Actual')\n",
    "plt.xlabel('Predicted')\n",
    "plt.show()\n",
    "\n",
    "# Feature Importance (for tree-based models)\n",
    "if hasattr(best_model, 'feature_importances_'):\n",
    "    print(f\"\\nFEATURE IMPORTANCE ({best_model_name}):\")\n",
    "    feature_importance = pd.DataFrame({\n",
    "        'feature': ml_data['feature_names'],\n",
    "        'importance': best_model.feature_importances_\n",
    "    }).sort_values('importance', ascending=False)\n",
    "    \n",
    "    print(feature_importance.head(10).round(4))\n",
    "    \n",
    "    # Plot feature importance\n",
    "    plt.figure(figsize=(10, 8))\n",
    "    top_features = feature_importance.head(15)\n",
    "    sns.barplot(data=top_features, x='importance', y='feature')\n",
    "    plt.title(f'Top 15 Feature Importance - {best_model_name}')\n",
    "    plt.tight_layout()\n",
    "    plt.show()"
   ]
  },
  {
   "cell_type": "markdown",
   "id": "b82d9060",
   "metadata": {},
   "source": [
    "## 4.2 Advanced performance analysis"
   ]
  },
  {
   "cell_type": "code",
   "execution_count": 85,
   "id": "60b05e17",
   "metadata": {},
   "outputs": [
    {
     "name": "stdout",
     "output_type": "stream",
     "text": [
      "1. PERFORMANCE BY MATCH DIFFICULTY:\n",
      "Accuracy by match difficulty:\n",
      "  - Very Hard: 0.833 (6 matches)\n",
      "  - Hard: 0.676 (34 matches)\n",
      "  - Balanced: 0.704 (162 matches)\n",
      "  - Easy: 0.852 (27 matches)\n",
      "  - Very Easy: 0.750 (4 matches)\n",
      "\n",
      "2. PERFORMANCE BY TARGET SIZE:\n",
      "Accuracy by target runs:\n",
      "  - Very Low: 0.810 (42 matches)\n",
      "  - Low: 0.738 (42 matches)\n",
      "  - Medium: 0.644 (73 matches)\n",
      "  - High: 0.684 (38 matches)\n",
      "  - Very High: 0.789 (38 matches)\n",
      "\n",
      "3. ERROR ANALYSIS:\n",
      "Total wrong predictions: 65\n",
      "Sample of wrong predictions:\n",
      "     target_runs  overall_strength_diff  actual  predicted\n",
      "148        201.0               1.918747       1          0\n",
      "197        165.0               0.105854       0          1\n",
      "675        188.0               2.551112       1          0\n",
      "952        172.0               0.935133       1          0\n",
      "299        188.0               3.393200       1          0\n",
      "\n",
      "Common patterns in wrong predictions:\n",
      "  - Average target runs: 170.3\n",
      "  - Average strength diff: -0.9\n",
      "  - Wrong when chasing should win: 30 times\n",
      "  - Wrong when chasing should lose: 35 times\n"
     ]
    }
   ],
   "source": [
    "\n",
    "# 1. Performance by match difficulty\n",
    "print(\"1. PERFORMANCE BY MATCH DIFFICULTY:\")\n",
    "\n",
    "# Create match difficulty categories based on strength difference\n",
    "ml_data['X_test']['strength_diff_category'] = pd.cut(\n",
    "    ml_data['X_test']['overall_strength_diff'], \n",
    "    bins=[-float('inf'), -10, -5, 5, 10, float('inf')],\n",
    "    labels=['Very Hard', 'Hard', 'Balanced', 'Easy', 'Very Easy']\n",
    ")\n",
    "\n",
    "# Add predictions to test data for analysis\n",
    "test_with_predictions = ml_data['X_test'].copy()\n",
    "test_with_predictions['actual'] = ml_data['y_test']\n",
    "test_with_predictions['predicted'] = results[best_model_name]['y_pred']\n",
    "test_with_predictions['correct'] = test_with_predictions['actual'] == test_with_predictions['predicted']\n",
    "\n",
    "# Analyze accuracy by match difficulty\n",
    "difficulty_accuracy = test_with_predictions.groupby('strength_diff_category')['correct'].mean()\n",
    "print(\"Accuracy by match difficulty:\")\n",
    "for difficulty, acc in difficulty_accuracy.items():\n",
    "    count = (test_with_predictions['strength_diff_category'] == difficulty).sum()\n",
    "    print(f\"  - {difficulty}: {acc:.3f} ({count} matches)\")\n",
    "\n",
    "# 2. Performance by target runs\n",
    "print(f\"\\n2. PERFORMANCE BY TARGET SIZE:\")\n",
    "test_with_predictions['target_category'] = pd.cut(\n",
    "    test_with_predictions['target_runs'],\n",
    "    bins=[0, 140, 160, 180, 200, float('inf')],\n",
    "    labels=['Very Low', 'Low', 'Medium', 'High', 'Very High']\n",
    ")\n",
    "\n",
    "target_accuracy = test_with_predictions.groupby('target_category')['correct'].mean()\n",
    "print(\"Accuracy by target runs:\")\n",
    "for target, acc in target_accuracy.items():\n",
    "    count = (test_with_predictions['target_category'] == target).sum()\n",
    "    print(f\"  - {target}: {acc:.3f} ({count} matches)\")\n",
    "\n",
    "# 3. Error analysis\n",
    "print(f\"\\n3. ERROR ANALYSIS:\")\n",
    "wrong_predictions = test_with_predictions[~test_with_predictions['correct']]\n",
    "print(f\"Total wrong predictions: {len(wrong_predictions)}\")\n",
    "\n",
    "if len(wrong_predictions) > 0:\n",
    "    print(\"Sample of wrong predictions:\")\n",
    "    wrong_sample = wrong_predictions.head(5)[[\n",
    "        'target_runs', 'overall_strength_diff', 'actual', 'predicted'\n",
    "    ]]\n",
    "    print(wrong_sample)\n",
    "    \n",
    "    # Analyze common patterns in wrong predictions\n",
    "    print(\"\\nCommon patterns in wrong predictions:\")\n",
    "    print(f\"  - Average target runs: {wrong_predictions['target_runs'].mean():.1f}\")\n",
    "    print(f\"  - Average strength diff: {wrong_predictions['overall_strength_diff'].mean():.1f}\")\n",
    "    print(f\"  - Wrong when chasing should win: {(wrong_predictions['actual'] == 1).sum()} times\")\n",
    "    print(f\"  - Wrong when chasing should lose: {(wrong_predictions['actual'] == 0).sum()} times\")"
   ]
  },
  {
   "cell_type": "markdown",
   "id": "c33f3321",
   "metadata": {},
   "source": [
    "## 4.3 Saving models"
   ]
  },
  {
   "cell_type": "code",
   "execution_count": 86,
   "id": "b04329dd",
   "metadata": {},
   "outputs": [
    {
     "name": "stdout",
     "output_type": "stream",
     "text": [
      " Models saved:\n",
      "   - outputs/ml_step4_trained_models.pkl (all models + results)\n",
      "   - outputs/best_model.pkl (best model only)\n",
      "   - outputs/model_performance_summary.csv (performance comparison)\n",
      "\n",
      "FINAL RESULTS SUMMARY:\n",
      "Best Model: Support Vector Machine\n",
      "Test Accuracy: 72.1%\n",
      "Baseline (always predict majority): 53.2%\n",
      "Improvement over baseline: +18.9%\n"
     ]
    }
   ],
   "source": [
    "\n",
    "import pickle\n",
    "import joblib\n",
    "\n",
    "# Save all models and results\n",
    "model_package = {\n",
    "    'results': results,\n",
    "    'trained_models': trained_models,\n",
    "    'best_model': best_model,\n",
    "    'best_model_name': best_model_name,\n",
    "    'ml_data': ml_data,\n",
    "    'performance_df': performance_df\n",
    "}\n",
    "\n",
    "# Save using joblib (better for large models)\n",
    "joblib.dump(model_package, 'outputs/ml_step4_trained_models.pkl')\n",
    "\n",
    "# Save best model separately for easy loading\n",
    "joblib.dump(best_model, 'outputs/best_model.pkl')\n",
    "\n",
    "print(\" Models saved:\")\n",
    "print(\"   - outputs/ml_step4_trained_models.pkl (all models + results)\")\n",
    "print(\"   - outputs/best_model.pkl (best model only)\")\n",
    "\n",
    "# Save performance summary\n",
    "performance_df.to_csv('outputs/model_performance_summary.csv', index=False)\n",
    "print(\"   - outputs/model_performance_summary.csv (performance comparison)\")\n",
    "\n",
    "print(f\"\\nFINAL RESULTS SUMMARY:\")\n",
    "print(f\"Best Model: {best_model_name}\")\n",
    "print(f\"Test Accuracy: {best_accuracy:.1%}\")\n",
    "print(f\"Baseline (always predict majority): {max(ml_data['y_test'].mean(), 1-ml_data['y_test'].mean()):.1%}\")\n",
    "print(f\"Improvement over baseline: {best_accuracy - max(ml_data['y_test'].mean(), 1-ml_data['y_test'].mean()):+.1%}\")"
   ]
  },
  {
   "cell_type": "markdown",
   "id": "196bb6b6",
   "metadata": {},
   "source": [
    "## 4.4 Prediction dashboard\n"
   ]
  },
  {
   "cell_type": "code",
   "execution_count": 87,
   "id": "0773eb8a",
   "metadata": {},
   "outputs": [
    {
     "name": "stdout",
     "output_type": "stream",
     "text": [
      "Setting up prediction system...\n",
      "Using Logistic Regression for predictions (with scaling)\n"
     ]
    }
   ],
   "source": [
    "def create_prediction_system(trained_models, ml_data, results):\n",
    "    \"\"\"\n",
    "    Step 5: Create a system to make new predictions and show results\n",
    "    \"\"\"\n",
    "    print(\"Setting up prediction system...\")\n",
    "    \n",
    "    # Get the best model\n",
    "    best_model_name = list(results.keys())[0]  # Assuming sorted by performance\n",
    "    best_model = results[best_model_name]['model']\n",
    "    \n",
    "    # Determine if we need scaled data for the best model\n",
    "    needs_scaling = best_model_name in ['Logistic Regression', 'K-Nearest Neighbors', 'Support Vector Machine']\n",
    "    \n",
    "    print(f\"Using {best_model_name} for predictions {'(with scaling)' if needs_scaling else ''}\")\n",
    "    \n",
    "    def predict_match(chasing_team, defending_team, target_runs, first_innings_runs, \n",
    "                     venue, toss_winner, toss_decision, season):\n",
    "        \"\"\"\n",
    "        Predict win probability for a new match\n",
    "        \"\"\"\n",
    "        try:\n",
    "            # Create feature vector for the new match\n",
    "            new_match_features = {}\n",
    "            \n",
    "            # Basic match features\n",
    "            new_match_features['target_runs'] = target_runs\n",
    "            new_match_features['first_innings_runs'] = first_innings_runs\n",
    "            new_match_features['first_innings_wickets'] = 5  # Average wickets\n",
    "            new_match_features['required_run_rate'] = target_runs / 20\n",
    "            new_match_features['is_toss_winner_chasing'] = 1 if toss_winner == chasing_team else 0\n",
    "            new_match_features['is_batting_first_won_toss'] = 1 if toss_decision == 'bat' else 0\n",
    "            \n",
    "            # Get team strengths (from our team strength data)\n",
    "            chasing_strength = team_strength_enhanced[\n",
    "                (team_strength_enhanced['Team'] == chasing_team) & \n",
    "                (team_strength_enhanced['Season'] == season)\n",
    "            ]\n",
    "            defending_strength = team_strength_enhanced[\n",
    "                (team_strength_enhanced['Team'] == defending_team) & \n",
    "                (team_strength_enhanced['Season'] == season)\n",
    "            ]\n",
    "            \n",
    "            # Fill team strength features\n",
    "            if len(chasing_strength) > 0:\n",
    "                new_match_features['chasing_overall_strength'] = chasing_strength['Overall_Strength'].iloc[0]\n",
    "                new_match_features['chasing_batting_strength'] = chasing_strength['Batting_Strength'].iloc[0]\n",
    "                new_match_features['chasing_bowling_strength'] = chasing_strength['Bowling_Strength'].iloc[0]\n",
    "                new_match_features['chasing_allrounder_strength'] = chasing_strength['AllRounder_Strength'].iloc[0]\n",
    "            else:\n",
    "                # Default strengths if team not found\n",
    "                new_match_features.update({\n",
    "                    'chasing_overall_strength': 50, 'chasing_batting_strength': 50,\n",
    "                    'chasing_bowling_strength': 50, 'chasing_allrounder_strength': 50\n",
    "                })\n",
    "            \n",
    "            if len(defending_strength) > 0:\n",
    "                new_match_features['defending_overall_strength'] = defending_strength['Overall_Strength'].iloc[0]\n",
    "                new_match_features['defending_batting_strength'] = defending_strength['Batting_Strength'].iloc[0]\n",
    "                new_match_features['defending_bowling_strength'] = defending_strength['Bowling_Strength'].iloc[0]\n",
    "                new_match_features['defending_allrounder_strength'] = defending_strength['AllRounder_Strength'].iloc[0]\n",
    "            else:\n",
    "                new_match_features.update({\n",
    "                    'defending_overall_strength': 50, 'defending_batting_strength': 50,\n",
    "                    'defending_bowling_strength': 50, 'defending_allrounder_strength': 50\n",
    "                })\n",
    "            \n",
    "            # Calculate strength differentials\n",
    "            new_match_features['overall_strength_diff'] = (\n",
    "                new_match_features['chasing_overall_strength'] - new_match_features['defending_overall_strength']\n",
    "            )\n",
    "            new_match_features['batting_strength_diff'] = (\n",
    "                new_match_features['chasing_batting_strength'] - new_match_features['defending_bowling_strength']\n",
    "            )\n",
    "            new_match_features['bowling_strength_diff'] = (\n",
    "                new_match_features['chasing_bowling_strength'] - new_match_features['defending_batting_strength']\n",
    "            )\n",
    "            new_match_features['allrounder_strength_diff'] = (\n",
    "                new_match_features['chasing_allrounder_strength'] - new_match_features['defending_allrounder_strength']\n",
    "            )\n",
    "            \n",
    "            # Encode categorical variables\n",
    "            for col in ['venue', 'chasing_team', 'defending_team', 'toss_winner', 'toss_decision']:\n",
    "                encoder = ml_data['label_encoders'].get(col)\n",
    "                if encoder:\n",
    "                    try:\n",
    "                        new_match_features[f'{col}_encoded'] = encoder.transform([str(locals()[col])])[0]\n",
    "                    except:\n",
    "                        new_match_features[f'{col}_encoded'] = 0  # Default if category not seen\n",
    "            \n",
    "            # Create feature vector in correct order\n",
    "            feature_vector = []\n",
    "            for feature in ml_data['feature_names']:\n",
    "                feature_vector.append(new_match_features.get(feature, 0))\n",
    "            \n",
    "            # Convert to numpy array and reshape\n",
    "            X_new = np.array(feature_vector).reshape(1, -1)\n",
    "            \n",
    "            # Scale if needed\n",
    "            if needs_scaling:\n",
    "                X_new = ml_data['scaler'].transform(X_new)\n",
    "            \n",
    "            # Make prediction\n",
    "            win_probability = best_model.predict_proba(X_new)[0][1]  # Probability of winning while chasing\n",
    "            prediction = best_model.predict(X_new)[0]\n",
    "            \n",
    "            return {\n",
    "                'win_probability': win_probability,\n",
    "                'prediction': 'Win' if prediction == 1 else 'Lose',\n",
    "                'confidence': max(win_probability, 1 - win_probability),\n",
    "                'strength_advantage': new_match_features['overall_strength_diff']\n",
    "            }\n",
    "            \n",
    "        except Exception as e:\n",
    "            print(f\"Prediction error: {e}\")\n",
    "            return None\n",
    "    \n",
    "    return predict_match\n",
    "\n",
    "# Create the prediction function\n",
    "predict_match = create_prediction_system(trained_models, ml_data, results)\n"
   ]
  },
  {
   "cell_type": "code",
   "execution_count": 88,
   "id": "d0217a2d",
   "metadata": {},
   "outputs": [
    {
     "name": "stdout",
     "output_type": "stream",
     "text": [
      "1. HIGH-PROFILE MATCH PREDICTION:\n",
      "Match: RCB vs MI\n",
      "Target: 185 runs\n",
      "Prediction: Lose for RCB\n",
      "Win Probability: 29.4%\n",
      "Confidence: 70.6%\n",
      "Strength Advantage: +0.9\n",
      "\n",
      "----------------------------------------\n",
      "2. DEFENDING LOW TOTAL:\n",
      "Match: CSK vs KKR\n",
      "Target: 145 runs\n",
      "Prediction: Win for CSK\n",
      "Win Probability: 74.7%\n",
      "Confidence: 74.7%\n",
      "Strength Advantage: -2.7\n"
     ]
    }
   ],
   "source": [
    "\n",
    "# Sample prediction 1: High-profile match\n",
    "print(\"1. HIGH-PROFILE MATCH PREDICTION:\")\n",
    "result1 = predict_match(\n",
    "    chasing_team=\"Royal Challengers Bangalore\",\n",
    "    defending_team=\"Mumbai Indians\", \n",
    "    target_runs=185,\n",
    "    first_innings_runs=184,\n",
    "    venue=\"M Chinnaswamy Stadium\",\n",
    "    toss_winner=\"Royal Challengers Bangalore\",\n",
    "    toss_decision=\"field\",\n",
    "    season=2023\n",
    ")\n",
    "\n",
    "if result1:\n",
    "    print(f\"Match: RCB vs MI\")\n",
    "    print(f\"Target: 185 runs\")\n",
    "    print(f\"Prediction: {result1['prediction']} for RCB\")\n",
    "    print(f\"Win Probability: {result1['win_probability']:.1%}\")\n",
    "    print(f\"Confidence: {result1['confidence']:.1%}\")\n",
    "    print(f\"Strength Advantage: {result1['strength_advantage']:+.1f}\")\n",
    "\n",
    "print(\"\\n\" + \"-\"*40)\n",
    "\n",
    "# Sample prediction 2: Different scenario\n",
    "print(\"2. DEFENDING LOW TOTAL:\")\n",
    "result2 = predict_match(\n",
    "    chasing_team=\"Chennai Super Kings\",\n",
    "    defending_team=\"Kolkata Knight Riders\",\n",
    "    target_runs=145, \n",
    "    first_innings_runs=144,\n",
    "    venue=\"MA Chidambaram Stadium\",\n",
    "    toss_winner=\"Kolkata Knight Riders\",\n",
    "    toss_decision=\"bat\",\n",
    "    season=2023\n",
    ")\n",
    "\n",
    "if result2:\n",
    "    print(f\"Match: CSK vs KKR\")\n",
    "    print(f\"Target: 145 runs\") \n",
    "    print(f\"Prediction: {result2['prediction']} for CSK\")\n",
    "    print(f\"Win Probability: {result2['win_probability']:.1%}\")\n",
    "    print(f\"Confidence: {result2['confidence']:.1%}\")\n",
    "    print(f\"Strength Advantage: {result2['strength_advantage']:+.1f}\")"
   ]
  },
  {
   "cell_type": "code",
   "execution_count": 89,
   "id": "3ae674f8",
   "metadata": {},
   "outputs": [
    {
     "name": "stdout",
     "output_type": "stream",
     "text": [
      "Interactive dashboard created!\n",
      "\n",
      "🎮 DEMO: PREDICTION DASHBOARD\n",
      "Launching dashboard for sample match...\n"
     ]
    },
    {
     "data": {
      "application/vnd.plotly.v1+json": {
       "config": {
        "plotlyServerURL": "https://plot.ly"
       },
       "data": [
        {
         "delta": {
          "reference": 50
         },
         "domain": {
          "x": [
           0,
           0.45
          ],
          "y": [
           0.575,
           1
          ]
         },
         "gauge": {
          "axis": {
           "range": [
            null,
            100
           ]
          },
          "bar": {
           "color": "darkblue"
          },
          "steps": [
           {
            "color": "lightcoral",
            "range": [
             0,
             30
            ]
           },
           {
            "color": "lightyellow",
            "range": [
             30,
             70
            ]
           },
           {
            "color": "lightgreen",
            "range": [
             70,
             100
            ]
           }
          ],
          "threshold": {
           "line": {
            "color": "red",
            "width": 4
           },
           "thickness": 0.75,
           "value": 90
          }
         },
         "mode": "gauge+number+delta",
         "title": {
          "text": "Win Probability for Royal Challengers Bangalore"
         },
         "type": "indicator",
         "value": 37.04158843281575
        },
        {
         "marker": {
          "color": [
           "lightgreen",
           "lightcoral"
          ]
         },
         "text": [
          "51.918344910839096",
          "48.081655089160904"
         ],
         "textposition": "auto",
         "texttemplate": "%{text:.0f}",
         "type": "bar",
         "x": [
          "Royal Challengers Bangalore",
          "Chennai Super Kings"
         ],
         "xaxis": "x",
         "y": [
          51.918344910839096,
          48.081655089160904
         ],
         "yaxis": "y"
        },
        {
         "marker": {
          "color": "lightblue"
         },
         "orientation": "h",
         "type": "bar",
         "x": [
          75,
          69.18344910839093,
          75,
          60
         ],
         "xaxis": "x2",
         "y": [
          "Target Difficulty",
          "Strength Advantage",
          "Venue Factor",
          "Toss Advantage"
         ],
         "yaxis": "y2"
        },
        {
         "cells": {
          "values": [
           [
            "Teams",
            "Target",
            "Venue",
            "Prediction",
            "Confidence"
           ],
           [
            "Royal Challengers Bangalore vs Chennai Super Kings",
            "175 runs",
            "M Chinnaswamy Stadium",
            "Lose",
            "63.0%"
           ]
          ]
         },
         "domain": {
          "x": [
           0.55,
           1
          ],
          "y": [
           0,
           0.425
          ]
         },
         "header": {
          "values": [
           "Parameter",
           "Value"
          ]
         },
         "type": "table"
        }
       ],
       "layout": {
        "annotations": [
         {
          "font": {
           "size": 16
          },
          "showarrow": false,
          "text": "Win Probability",
          "x": 0.225,
          "xanchor": "center",
          "xref": "paper",
          "y": 1,
          "yanchor": "bottom",
          "yref": "paper"
         },
         {
          "font": {
           "size": 16
          },
          "showarrow": false,
          "text": "Strength Comparison",
          "x": 0.775,
          "xanchor": "center",
          "xref": "paper",
          "y": 1,
          "yanchor": "bottom",
          "yref": "paper"
         },
         {
          "font": {
           "size": 16
          },
          "showarrow": false,
          "text": "Key Factors",
          "x": 0.225,
          "xanchor": "center",
          "xref": "paper",
          "y": 0.425,
          "yanchor": "bottom",
          "yref": "paper"
         },
         {
          "font": {
           "size": 16
          },
          "showarrow": false,
          "text": "Match Context",
          "x": 0.775,
          "xanchor": "center",
          "xref": "paper",
          "y": 0.425,
          "yanchor": "bottom",
          "yref": "paper"
         }
        ],
        "height": 600,
        "showlegend": false,
        "template": {
         "data": {
          "bar": [
           {
            "error_x": {
             "color": "#2a3f5f"
            },
            "error_y": {
             "color": "#2a3f5f"
            },
            "marker": {
             "line": {
              "color": "#E5ECF6",
              "width": 0.5
             },
             "pattern": {
              "fillmode": "overlay",
              "size": 10,
              "solidity": 0.2
             }
            },
            "type": "bar"
           }
          ],
          "barpolar": [
           {
            "marker": {
             "line": {
              "color": "#E5ECF6",
              "width": 0.5
             },
             "pattern": {
              "fillmode": "overlay",
              "size": 10,
              "solidity": 0.2
             }
            },
            "type": "barpolar"
           }
          ],
          "carpet": [
           {
            "aaxis": {
             "endlinecolor": "#2a3f5f",
             "gridcolor": "white",
             "linecolor": "white",
             "minorgridcolor": "white",
             "startlinecolor": "#2a3f5f"
            },
            "baxis": {
             "endlinecolor": "#2a3f5f",
             "gridcolor": "white",
             "linecolor": "white",
             "minorgridcolor": "white",
             "startlinecolor": "#2a3f5f"
            },
            "type": "carpet"
           }
          ],
          "choropleth": [
           {
            "colorbar": {
             "outlinewidth": 0,
             "ticks": ""
            },
            "type": "choropleth"
           }
          ],
          "contour": [
           {
            "colorbar": {
             "outlinewidth": 0,
             "ticks": ""
            },
            "colorscale": [
             [
              0,
              "#0d0887"
             ],
             [
              0.1111111111111111,
              "#46039f"
             ],
             [
              0.2222222222222222,
              "#7201a8"
             ],
             [
              0.3333333333333333,
              "#9c179e"
             ],
             [
              0.4444444444444444,
              "#bd3786"
             ],
             [
              0.5555555555555556,
              "#d8576b"
             ],
             [
              0.6666666666666666,
              "#ed7953"
             ],
             [
              0.7777777777777778,
              "#fb9f3a"
             ],
             [
              0.8888888888888888,
              "#fdca26"
             ],
             [
              1,
              "#f0f921"
             ]
            ],
            "type": "contour"
           }
          ],
          "contourcarpet": [
           {
            "colorbar": {
             "outlinewidth": 0,
             "ticks": ""
            },
            "type": "contourcarpet"
           }
          ],
          "heatmap": [
           {
            "colorbar": {
             "outlinewidth": 0,
             "ticks": ""
            },
            "colorscale": [
             [
              0,
              "#0d0887"
             ],
             [
              0.1111111111111111,
              "#46039f"
             ],
             [
              0.2222222222222222,
              "#7201a8"
             ],
             [
              0.3333333333333333,
              "#9c179e"
             ],
             [
              0.4444444444444444,
              "#bd3786"
             ],
             [
              0.5555555555555556,
              "#d8576b"
             ],
             [
              0.6666666666666666,
              "#ed7953"
             ],
             [
              0.7777777777777778,
              "#fb9f3a"
             ],
             [
              0.8888888888888888,
              "#fdca26"
             ],
             [
              1,
              "#f0f921"
             ]
            ],
            "type": "heatmap"
           }
          ],
          "histogram": [
           {
            "marker": {
             "pattern": {
              "fillmode": "overlay",
              "size": 10,
              "solidity": 0.2
             }
            },
            "type": "histogram"
           }
          ],
          "histogram2d": [
           {
            "colorbar": {
             "outlinewidth": 0,
             "ticks": ""
            },
            "colorscale": [
             [
              0,
              "#0d0887"
             ],
             [
              0.1111111111111111,
              "#46039f"
             ],
             [
              0.2222222222222222,
              "#7201a8"
             ],
             [
              0.3333333333333333,
              "#9c179e"
             ],
             [
              0.4444444444444444,
              "#bd3786"
             ],
             [
              0.5555555555555556,
              "#d8576b"
             ],
             [
              0.6666666666666666,
              "#ed7953"
             ],
             [
              0.7777777777777778,
              "#fb9f3a"
             ],
             [
              0.8888888888888888,
              "#fdca26"
             ],
             [
              1,
              "#f0f921"
             ]
            ],
            "type": "histogram2d"
           }
          ],
          "histogram2dcontour": [
           {
            "colorbar": {
             "outlinewidth": 0,
             "ticks": ""
            },
            "colorscale": [
             [
              0,
              "#0d0887"
             ],
             [
              0.1111111111111111,
              "#46039f"
             ],
             [
              0.2222222222222222,
              "#7201a8"
             ],
             [
              0.3333333333333333,
              "#9c179e"
             ],
             [
              0.4444444444444444,
              "#bd3786"
             ],
             [
              0.5555555555555556,
              "#d8576b"
             ],
             [
              0.6666666666666666,
              "#ed7953"
             ],
             [
              0.7777777777777778,
              "#fb9f3a"
             ],
             [
              0.8888888888888888,
              "#fdca26"
             ],
             [
              1,
              "#f0f921"
             ]
            ],
            "type": "histogram2dcontour"
           }
          ],
          "mesh3d": [
           {
            "colorbar": {
             "outlinewidth": 0,
             "ticks": ""
            },
            "type": "mesh3d"
           }
          ],
          "parcoords": [
           {
            "line": {
             "colorbar": {
              "outlinewidth": 0,
              "ticks": ""
             }
            },
            "type": "parcoords"
           }
          ],
          "pie": [
           {
            "automargin": true,
            "type": "pie"
           }
          ],
          "scatter": [
           {
            "fillpattern": {
             "fillmode": "overlay",
             "size": 10,
             "solidity": 0.2
            },
            "type": "scatter"
           }
          ],
          "scatter3d": [
           {
            "line": {
             "colorbar": {
              "outlinewidth": 0,
              "ticks": ""
             }
            },
            "marker": {
             "colorbar": {
              "outlinewidth": 0,
              "ticks": ""
             }
            },
            "type": "scatter3d"
           }
          ],
          "scattercarpet": [
           {
            "marker": {
             "colorbar": {
              "outlinewidth": 0,
              "ticks": ""
             }
            },
            "type": "scattercarpet"
           }
          ],
          "scattergeo": [
           {
            "marker": {
             "colorbar": {
              "outlinewidth": 0,
              "ticks": ""
             }
            },
            "type": "scattergeo"
           }
          ],
          "scattergl": [
           {
            "marker": {
             "colorbar": {
              "outlinewidth": 0,
              "ticks": ""
             }
            },
            "type": "scattergl"
           }
          ],
          "scattermap": [
           {
            "marker": {
             "colorbar": {
              "outlinewidth": 0,
              "ticks": ""
             }
            },
            "type": "scattermap"
           }
          ],
          "scattermapbox": [
           {
            "marker": {
             "colorbar": {
              "outlinewidth": 0,
              "ticks": ""
             }
            },
            "type": "scattermapbox"
           }
          ],
          "scatterpolar": [
           {
            "marker": {
             "colorbar": {
              "outlinewidth": 0,
              "ticks": ""
             }
            },
            "type": "scatterpolar"
           }
          ],
          "scatterpolargl": [
           {
            "marker": {
             "colorbar": {
              "outlinewidth": 0,
              "ticks": ""
             }
            },
            "type": "scatterpolargl"
           }
          ],
          "scatterternary": [
           {
            "marker": {
             "colorbar": {
              "outlinewidth": 0,
              "ticks": ""
             }
            },
            "type": "scatterternary"
           }
          ],
          "surface": [
           {
            "colorbar": {
             "outlinewidth": 0,
             "ticks": ""
            },
            "colorscale": [
             [
              0,
              "#0d0887"
             ],
             [
              0.1111111111111111,
              "#46039f"
             ],
             [
              0.2222222222222222,
              "#7201a8"
             ],
             [
              0.3333333333333333,
              "#9c179e"
             ],
             [
              0.4444444444444444,
              "#bd3786"
             ],
             [
              0.5555555555555556,
              "#d8576b"
             ],
             [
              0.6666666666666666,
              "#ed7953"
             ],
             [
              0.7777777777777778,
              "#fb9f3a"
             ],
             [
              0.8888888888888888,
              "#fdca26"
             ],
             [
              1,
              "#f0f921"
             ]
            ],
            "type": "surface"
           }
          ],
          "table": [
           {
            "cells": {
             "fill": {
              "color": "#EBF0F8"
             },
             "line": {
              "color": "white"
             }
            },
            "header": {
             "fill": {
              "color": "#C8D4E3"
             },
             "line": {
              "color": "white"
             }
            },
            "type": "table"
           }
          ]
         },
         "layout": {
          "annotationdefaults": {
           "arrowcolor": "#2a3f5f",
           "arrowhead": 0,
           "arrowwidth": 1
          },
          "autotypenumbers": "strict",
          "coloraxis": {
           "colorbar": {
            "outlinewidth": 0,
            "ticks": ""
           }
          },
          "colorscale": {
           "diverging": [
            [
             0,
             "#8e0152"
            ],
            [
             0.1,
             "#c51b7d"
            ],
            [
             0.2,
             "#de77ae"
            ],
            [
             0.3,
             "#f1b6da"
            ],
            [
             0.4,
             "#fde0ef"
            ],
            [
             0.5,
             "#f7f7f7"
            ],
            [
             0.6,
             "#e6f5d0"
            ],
            [
             0.7,
             "#b8e186"
            ],
            [
             0.8,
             "#7fbc41"
            ],
            [
             0.9,
             "#4d9221"
            ],
            [
             1,
             "#276419"
            ]
           ],
           "sequential": [
            [
             0,
             "#0d0887"
            ],
            [
             0.1111111111111111,
             "#46039f"
            ],
            [
             0.2222222222222222,
             "#7201a8"
            ],
            [
             0.3333333333333333,
             "#9c179e"
            ],
            [
             0.4444444444444444,
             "#bd3786"
            ],
            [
             0.5555555555555556,
             "#d8576b"
            ],
            [
             0.6666666666666666,
             "#ed7953"
            ],
            [
             0.7777777777777778,
             "#fb9f3a"
            ],
            [
             0.8888888888888888,
             "#fdca26"
            ],
            [
             1,
             "#f0f921"
            ]
           ],
           "sequentialminus": [
            [
             0,
             "#0d0887"
            ],
            [
             0.1111111111111111,
             "#46039f"
            ],
            [
             0.2222222222222222,
             "#7201a8"
            ],
            [
             0.3333333333333333,
             "#9c179e"
            ],
            [
             0.4444444444444444,
             "#bd3786"
            ],
            [
             0.5555555555555556,
             "#d8576b"
            ],
            [
             0.6666666666666666,
             "#ed7953"
            ],
            [
             0.7777777777777778,
             "#fb9f3a"
            ],
            [
             0.8888888888888888,
             "#fdca26"
            ],
            [
             1,
             "#f0f921"
            ]
           ]
          },
          "colorway": [
           "#636efa",
           "#EF553B",
           "#00cc96",
           "#ab63fa",
           "#FFA15A",
           "#19d3f3",
           "#FF6692",
           "#B6E880",
           "#FF97FF",
           "#FECB52"
          ],
          "font": {
           "color": "#2a3f5f"
          },
          "geo": {
           "bgcolor": "white",
           "lakecolor": "white",
           "landcolor": "#E5ECF6",
           "showlakes": true,
           "showland": true,
           "subunitcolor": "white"
          },
          "hoverlabel": {
           "align": "left"
          },
          "hovermode": "closest",
          "mapbox": {
           "style": "light"
          },
          "paper_bgcolor": "white",
          "plot_bgcolor": "#E5ECF6",
          "polar": {
           "angularaxis": {
            "gridcolor": "white",
            "linecolor": "white",
            "ticks": ""
           },
           "bgcolor": "#E5ECF6",
           "radialaxis": {
            "gridcolor": "white",
            "linecolor": "white",
            "ticks": ""
           }
          },
          "scene": {
           "xaxis": {
            "backgroundcolor": "#E5ECF6",
            "gridcolor": "white",
            "gridwidth": 2,
            "linecolor": "white",
            "showbackground": true,
            "ticks": "",
            "zerolinecolor": "white"
           },
           "yaxis": {
            "backgroundcolor": "#E5ECF6",
            "gridcolor": "white",
            "gridwidth": 2,
            "linecolor": "white",
            "showbackground": true,
            "ticks": "",
            "zerolinecolor": "white"
           },
           "zaxis": {
            "backgroundcolor": "#E5ECF6",
            "gridcolor": "white",
            "gridwidth": 2,
            "linecolor": "white",
            "showbackground": true,
            "ticks": "",
            "zerolinecolor": "white"
           }
          },
          "shapedefaults": {
           "line": {
            "color": "#2a3f5f"
           }
          },
          "ternary": {
           "aaxis": {
            "gridcolor": "white",
            "linecolor": "white",
            "ticks": ""
           },
           "baxis": {
            "gridcolor": "white",
            "linecolor": "white",
            "ticks": ""
           },
           "bgcolor": "#E5ECF6",
           "caxis": {
            "gridcolor": "white",
            "linecolor": "white",
            "ticks": ""
           }
          },
          "title": {
           "x": 0.05
          },
          "xaxis": {
           "automargin": true,
           "gridcolor": "white",
           "linecolor": "white",
           "ticks": "",
           "title": {
            "standoff": 15
           },
           "zerolinecolor": "white",
           "zerolinewidth": 2
          },
          "yaxis": {
           "automargin": true,
           "gridcolor": "white",
           "linecolor": "white",
           "ticks": "",
           "title": {
            "standoff": 15
           },
           "zerolinecolor": "white",
           "zerolinewidth": 2
          }
         }
        },
        "title": {
         "text": "IPL Match Prediction: Royal Challengers Bangalore vs Chennai Super Kings"
        },
        "xaxis": {
         "anchor": "y",
         "domain": [
          0.55,
          1
         ]
        },
        "xaxis2": {
         "anchor": "y2",
         "domain": [
          0,
          0.45
         ]
        },
        "yaxis": {
         "anchor": "x",
         "domain": [
          0.575,
          1
         ]
        },
        "yaxis2": {
         "anchor": "x2",
         "domain": [
          0,
          0.425
         ]
        }
       }
      }
     },
     "metadata": {},
     "output_type": "display_data"
    },
    {
     "name": "stdout",
     "output_type": "stream",
     "text": [
      "\n",
      "🔍 DETAILED ANALYSIS:\n",
      "Match: Royal Challengers Bangalore vs Chennai Super Kings\n",
      "Target: 175 runs at M Chinnaswamy Stadium\n",
      "Prediction: Lose for Royal Challengers Bangalore\n",
      "Win Probability: 37.0%\n",
      "Confidence: 63.0%\n",
      "Strength Advantage: +3.8\n",
      "Interpretation: UNDERDOG - Tough challenge\n"
     ]
    }
   ],
   "source": [
    "\n",
    "import plotly.graph_objects as go\n",
    "from plotly.subplots import make_subplots\n",
    "\n",
    "def create_prediction_dashboard(predict_match_function):\n",
    "    \"\"\"\n",
    "    Create an interactive dashboard for match predictions\n",
    "    \"\"\"\n",
    "    \n",
    "    def show_match_prediction(chasing_team, defending_team, target_runs, venue, season=2023):\n",
    "        \"\"\"\n",
    "        Display prediction with visualizations\n",
    "        \"\"\"\n",
    "        # Make prediction\n",
    "        result = predict_match_function(\n",
    "            chasing_team=chasing_team,\n",
    "            defending_team=defending_team,\n",
    "            target_runs=target_runs,\n",
    "            first_innings_runs=target_runs - 1,  # Assume close match\n",
    "            venue=venue,\n",
    "            toss_winner=chasing_team,  # Assume toss winner chases\n",
    "            toss_decision=\"field\",\n",
    "            season=season\n",
    "        )\n",
    "        \n",
    "        if not result:\n",
    "            print(\"Prediction failed\")\n",
    "            return\n",
    "        \n",
    "        # Create visualization\n",
    "        fig = make_subplots(\n",
    "            rows=2, cols=2,\n",
    "            subplot_titles=('Win Probability', 'Strength Comparison', 'Key Factors', 'Match Context'),\n",
    "            specs=[[{\"type\": \"indicator\"}, {\"type\": \"bar\"}],\n",
    "                   [{\"type\": \"bar\"}, {\"type\": \"table\"}]],\n",
    "            vertical_spacing=0.15,\n",
    "            horizontal_spacing=0.1\n",
    "        )\n",
    "        \n",
    "        # 1. Win Probability Gauge\n",
    "        fig.add_trace(\n",
    "            go.Indicator(\n",
    "                mode=\"gauge+number+delta\",\n",
    "                value=result['win_probability'] * 100,\n",
    "                domain={'x': [0, 1], 'y': [0, 1]},\n",
    "                title={'text': f\"Win Probability for {chasing_team}\"},\n",
    "                delta={'reference': 50},\n",
    "                gauge={\n",
    "                    'axis': {'range': [None, 100]},\n",
    "                    'bar': {'color': \"darkblue\"},\n",
    "                    'steps': [\n",
    "                        {'range': [0, 30], 'color': \"lightcoral\"},\n",
    "                        {'range': [30, 70], 'color': \"lightyellow\"},\n",
    "                        {'range': [70, 100], 'color': \"lightgreen\"}\n",
    "                    ],\n",
    "                    'threshold': {\n",
    "                        'line': {'color': \"red\", 'width': 4},\n",
    "                        'thickness': 0.75,\n",
    "                        'value': 90\n",
    "                    }\n",
    "                }\n",
    "            ),\n",
    "            row=1, col=1\n",
    "        )\n",
    "        \n",
    "        # 2. Strength Comparison\n",
    "        teams = [chasing_team, defending_team]\n",
    "        strength_vals = [50 + result['strength_advantage']/2, 50 - result['strength_advantage']/2]\n",
    "        \n",
    "        fig.add_trace(\n",
    "            go.Bar(\n",
    "                x=teams,\n",
    "                y=strength_vals,\n",
    "                marker_color=['lightgreen', 'lightcoral'],\n",
    "                text=strength_vals,\n",
    "                texttemplate='%{text:.0f}',\n",
    "                textposition='auto'\n",
    "            ),\n",
    "            row=1, col=2\n",
    "        )\n",
    "        \n",
    "        # 3. Key Factors (simplified)\n",
    "        factors = ['Target Difficulty', 'Strength Advantage', 'Venue Factor', 'Toss Advantage']\n",
    "        factor_scores = [\n",
    "            max(0, 100 - (target_runs - 150)),  # Target difficulty\n",
    "            min(100, max(0, 50 + result['strength_advantage'] * 5)),  # Strength\n",
    "            75,  # Venue (placeholder)\n",
    "            60   # Toss (placeholder)\n",
    "        ]\n",
    "        \n",
    "        fig.add_trace(\n",
    "            go.Bar(\n",
    "                x=factor_scores,\n",
    "                y=factors,\n",
    "                orientation='h',\n",
    "                marker_color='lightblue'\n",
    "            ),\n",
    "            row=2, col=1\n",
    "        )\n",
    "        \n",
    "        # 4. Match Context Table\n",
    "        fig.add_trace(\n",
    "            go.Table(\n",
    "                header=dict(values=['Parameter', 'Value']),\n",
    "                cells=dict(values=[\n",
    "                    ['Teams', 'Target', 'Venue', 'Prediction', 'Confidence'],\n",
    "                    [f\"{chasing_team} vs {defending_team}\", f\"{target_runs} runs\", \n",
    "                     venue, result['prediction'], f\"{result['confidence']:.1%}\"]\n",
    "                ])\n",
    "            ),\n",
    "            row=2, col=2\n",
    "        )\n",
    "        \n",
    "        fig.update_layout(\n",
    "            title=f\"IPL Match Prediction: {chasing_team} vs {defending_team}\",\n",
    "            height=600,\n",
    "            showlegend=False\n",
    "        )\n",
    "        \n",
    "        fig.show()\n",
    "        \n",
    "        # Print detailed analysis\n",
    "        print(f\"\\n🔍 DETAILED ANALYSIS:\")\n",
    "        print(f\"Match: {chasing_team} vs {defending_team}\")\n",
    "        print(f\"Target: {target_runs} runs at {venue}\")\n",
    "        print(f\"Prediction: {result['prediction']} for {chasing_team}\")\n",
    "        print(f\"Win Probability: {result['win_probability']:.1%}\")\n",
    "        print(f\"Confidence: {result['confidence']:.1%}\")\n",
    "        print(f\"Strength Advantage: {result['strength_advantage']:+.1f}\")\n",
    "        \n",
    "        # Interpretation\n",
    "        if result['win_probability'] > 0.7:\n",
    "            print(\"Interpretation: STRONG FAVORITE - High chance of winning\")\n",
    "        elif result['win_probability'] > 0.55:\n",
    "            print(\"Interpretation: SLIGHT FAVORITE - Better chances\")\n",
    "        elif result['win_probability'] > 0.45:\n",
    "            print(\"Interpretation: TOSS-UP - Very close match\")\n",
    "        else:\n",
    "            print(\"Interpretation: UNDERDOG - Tough challenge\")\n",
    "    \n",
    "    return show_match_prediction\n",
    "\n",
    "# Create the dashboard function\n",
    "show_prediction = create_prediction_dashboard(predict_match)\n",
    "\n",
    "print(\"Interactive dashboard created!\")\n",
    "\n",
    "# Demo the dashboard with a sample match\n",
    "print(\"\\n🎮 DEMO: PREDICTION DASHBOARD\")\n",
    "print(\"Launching dashboard for sample match...\")\n",
    "\n",
    "# Show a sample prediction\n",
    "show_prediction(\n",
    "    chasing_team=\"Royal Challengers Bangalore\",\n",
    "    defending_team=\"Chennai Super Kings\", \n",
    "    target_runs=175,\n",
    "    venue=\"M Chinnaswamy Stadium\",\n",
    "    season=2023\n",
    ")"
   ]
  },
  {
   "cell_type": "markdown",
   "id": "160546a2",
   "metadata": {},
   "source": [
    "## 4.5 Prediction vs Actual outcomes"
   ]
  },
  {
   "cell_type": "code",
   "execution_count": 90,
   "id": "6f019483",
   "metadata": {},
   "outputs": [
    {
     "name": "stdout",
     "output_type": "stream",
     "text": [
      "Comparing predictions against actual outcomes...\n",
      "Created comparison data for 233 test matches\n"
     ]
    }
   ],
   "source": [
    "def compare_predictions_vs_actual(trained_models, ml_data, results, features_with_strength):\n",
    "    \"\"\"\n",
    "    Compare model predictions against actual match outcomes\n",
    "    \"\"\"\n",
    "    print(\"Comparing predictions against actual outcomes...\")\n",
    "    \n",
    "    # Get the best model\n",
    "    best_model_name = list(results.keys())[0]\n",
    "    best_model = results[best_model_name]['model']\n",
    "    \n",
    "    # Determine if we need scaled data\n",
    "    needs_scaling = best_model_name in ['Logistic Regression', 'K-Nearest Neighbors', 'Support Vector Machine']\n",
    "    \n",
    "    # Get test set predictions\n",
    "    if needs_scaling:\n",
    "        X_test_for_model = ml_data['X_test_scaled']\n",
    "    else:\n",
    "        X_test_for_model = ml_data['X_test']\n",
    "    \n",
    "    # Get predictions for all test matches\n",
    "    test_predictions = best_model.predict(X_test_for_model)\n",
    "    test_probabilities = best_model.predict_proba(X_test_for_model)[:, 1]\n",
    "    \n",
    "    # Create comparison dataframe\n",
    "    comparison_df = features_with_strength.iloc[ml_data['X_test'].index].copy()\n",
    "    comparison_df['predicted_win'] = test_predictions\n",
    "    comparison_df['predicted_win_prob'] = test_probabilities\n",
    "    comparison_df['prediction_correct'] = comparison_df['won_chasing'] == comparison_df['predicted_win']\n",
    "    \n",
    "    # Add prediction confidence\n",
    "    comparison_df['prediction_confidence'] = np.where(\n",
    "        comparison_df['predicted_win_prob'] > 0.5,\n",
    "        comparison_df['predicted_win_prob'],\n",
    "        1 - comparison_df['predicted_win_prob']\n",
    "    )\n",
    "    \n",
    "    return comparison_df\n",
    "\n",
    "# Create comparison data\n",
    "prediction_comparison = compare_predictions_vs_actual(trained_models, ml_data, results, features_with_strength)\n",
    "\n",
    "print(f\"Created comparison data for {len(prediction_comparison)} test matches\")"
   ]
  },
  {
   "cell_type": "code",
   "execution_count": 91,
   "id": "2d5f4638",
   "metadata": {},
   "outputs": [
    {
     "name": "stdout",
     "output_type": "stream",
     "text": [
      "OVERALL PREDICTION ACCURACY:\n",
      "Correct predictions: 163/233 (70.0%)\n",
      "\n",
      "ACCURACY BY CONFIDENCE LEVEL:\n",
      "                    matches  accuracy\n",
      "confidence_level                     \n",
      "Low (50-60%)             57     0.614\n",
      "Medium (60-70%)          59     0.610\n",
      "High (70-80%)            55     0.745\n",
      "Very High (80-90%)       44     0.818\n",
      "Extreme (90-100%)        18     0.833\n",
      "\n",
      "ACCURACY BY MATCH DIFFICULTY:\n",
      "                matches  accuracy\n",
      "difficulty                       \n",
      "Very Close          162     0.691\n",
      "Close                61     0.721\n",
      "Clear Favorite        8     0.625\n",
      "Heavy Favorite        2     1.000\n"
     ]
    }
   ],
   "source": [
    "# Overall accuracy\n",
    "total_matches = len(prediction_comparison)\n",
    "correct_predictions = prediction_comparison['prediction_correct'].sum()\n",
    "overall_accuracy = correct_predictions / total_matches\n",
    "\n",
    "print(f\"OVERALL PREDICTION ACCURACY:\")\n",
    "print(f\"Correct predictions: {correct_predictions}/{total_matches} ({overall_accuracy:.1%})\")\n",
    "\n",
    "# Accuracy by confidence level\n",
    "print(f\"\\nACCURACY BY CONFIDENCE LEVEL:\")\n",
    "confidence_bins = [0, 0.6, 0.7, 0.8, 0.9, 1.0]\n",
    "confidence_labels = ['Low (50-60%)', 'Medium (60-70%)', 'High (70-80%)', 'Very High (80-90%)', 'Extreme (90-100%)']\n",
    "\n",
    "prediction_comparison['confidence_level'] = pd.cut(\n",
    "    prediction_comparison['prediction_confidence'],\n",
    "    bins=confidence_bins,\n",
    "    labels=confidence_labels,\n",
    "    include_lowest=True\n",
    ")\n",
    "\n",
    "confidence_accuracy = prediction_comparison.groupby('confidence_level').agg({\n",
    "    'prediction_correct': ['count', 'mean']\n",
    "}).round(3)\n",
    "\n",
    "confidence_accuracy.columns = ['matches', 'accuracy']\n",
    "print(confidence_accuracy)\n",
    "\n",
    "# Accuracy by match difficulty (strength difference)\n",
    "print(f\"\\nACCURACY BY MATCH DIFFICULTY:\")\n",
    "prediction_comparison['difficulty'] = pd.cut(\n",
    "    abs(prediction_comparison['overall_strength_diff']),\n",
    "    bins=[0, 5, 10, 15, float('inf')],\n",
    "    labels=['Very Close', 'Close', 'Clear Favorite', 'Heavy Favorite']\n",
    ")\n",
    "\n",
    "difficulty_accuracy = prediction_comparison.groupby('difficulty').agg({\n",
    "    'prediction_correct': ['count', 'mean']\n",
    "}).round(3)\n",
    "\n",
    "difficulty_accuracy.columns = ['matches', 'accuracy']\n",
    "print(difficulty_accuracy)"
   ]
  },
  {
   "cell_type": "code",
   "execution_count": 92,
   "id": "375be042",
   "metadata": {},
   "outputs": [
    {
     "name": "stdout",
     "output_type": "stream",
     "text": [
      "CORRECT PREDICTIONS (Sample):\n",
      "Total correct: 163\n",
      "                    chasing_team               defending_team  target_runs  \\\n",
      "330  Royal Challengers Bangalore          Sunrisers Hyderabad        162.0   \n",
      "662        Kolkata Knight Riders  Royal Challengers Bangalore        176.0   \n",
      "677              Kings XI Punjab        Kolkata Knight Riders        246.0   \n",
      "214         Kochi Tuskers Kerala             Delhi Daredevils        141.0   \n",
      "546              Kings XI Punjab        Kolkata Knight Riders        165.0   \n",
      "\n",
      "     won_chasing  predicted_win  predicted_win_prob  overall_strength_diff  \n",
      "330            1              1               0.654                  2.233  \n",
      "662            1              1               0.515                  3.786  \n",
      "677            0              0               0.053                 -3.330  \n",
      "214            1              1               0.748                  0.353  \n",
      "546            0              0               0.449                  0.497  \n",
      "\n",
      "WRONG PREDICTIONS (Sample):\n",
      "Total wrong: 70\n",
      "                     chasing_team         defending_team  target_runs  \\\n",
      "148               Kings XI Punjab  Kolkata Knight Riders        201.0   \n",
      "197           Chennai Super Kings         Mumbai Indians        165.0   \n",
      "675           Sunrisers Hyderabad       Delhi Daredevils        188.0   \n",
      "1126               Gujarat Titans         Delhi Capitals        204.0   \n",
      "952   Royal Challengers Bangalore         Mumbai Indians        172.0   \n",
      "\n",
      "      won_chasing  predicted_win  predicted_win_prob  overall_strength_diff  \n",
      "148             1              0               0.245                  1.919  \n",
      "197             0              1               0.786                  0.106  \n",
      "675             1              0               0.342                  2.551  \n",
      "1126            1              0               0.486                  4.090  \n",
      "952             1              0               0.472                  0.935  \n",
      "\n",
      "PATTERNS IN WRONG PREDICTIONS:\n",
      "Average target in wrong predictions: 170.0 runs\n",
      "Average strength diff in wrong predictions: -1.2\n",
      "Wrong when chasing won: 33 times\n",
      "Wrong when chasing lost: 37 times\n"
     ]
    }
   ],
   "source": [
    "# Show correct predictions\n",
    "print(\"CORRECT PREDICTIONS (Sample):\")\n",
    "correct_predictions_df = prediction_comparison[prediction_comparison['prediction_correct'] == True]\n",
    "print(f\"Total correct: {len(correct_predictions_df)}\")\n",
    "\n",
    "if len(correct_predictions_df) > 0:\n",
    "    sample_correct = correct_predictions_df.head(5)[[\n",
    "        'chasing_team', 'defending_team', 'target_runs', 'won_chasing', \n",
    "        'predicted_win', 'predicted_win_prob', 'overall_strength_diff'\n",
    "    ]]\n",
    "    print(sample_correct.round(3))\n",
    "\n",
    "# Show wrong predictions\n",
    "print(f\"\\nWRONG PREDICTIONS (Sample):\")\n",
    "wrong_predictions_df = prediction_comparison[prediction_comparison['prediction_correct'] == False]\n",
    "print(f\"Total wrong: {len(wrong_predictions_df)}\")\n",
    "\n",
    "if len(wrong_predictions_df) > 0:\n",
    "    sample_wrong = wrong_predictions_df.head(5)[[\n",
    "        'chasing_team', 'defending_team', 'target_runs', 'won_chasing',\n",
    "        'predicted_win', 'predicted_win_prob', 'overall_strength_diff'\n",
    "    ]]\n",
    "    print(sample_wrong.round(3))\n",
    "    \n",
    "    # Analyze patterns in wrong predictions\n",
    "    print(f\"\\nPATTERNS IN WRONG PREDICTIONS:\")\n",
    "    print(f\"Average target in wrong predictions: {wrong_predictions_df['target_runs'].mean():.1f} runs\")\n",
    "    print(f\"Average strength diff in wrong predictions: {wrong_predictions_df['overall_strength_diff'].mean():.1f}\")\n",
    "    print(f\"Wrong when chasing won: {(wrong_predictions_df['won_chasing'] == 1).sum()} times\")\n",
    "    print(f\"Wrong when chasing lost: {(wrong_predictions_df['won_chasing'] == 0).sum()} times\")"
   ]
  },
  {
   "cell_type": "code",
   "execution_count": 93,
   "id": "73d916e2",
   "metadata": {},
   "outputs": [
    {
     "data": {
      "image/png": "[encoded data removed]",
      "text/plain": [
       "<Figure size 1500x1200 with 5 Axes>"
      ]
     },
     "metadata": {},
     "output_type": "display_data"
    }
   ],
   "source": [
    "import matplotlib.pyplot as plt\n",
    "import seaborn as sns\n",
    "\n",
    "# Create visualization\n",
    "fig, axes = plt.subplots(2, 2, figsize=(15, 12))\n",
    "\n",
    "# 1. Prediction Accuracy by Confidence\n",
    "accuracy_by_confidence = prediction_comparison.groupby('confidence_level')['prediction_correct'].mean()\n",
    "matches_by_confidence = prediction_comparison.groupby('confidence_level').size()\n",
    "\n",
    "axes[0, 0].bar(accuracy_by_confidence.index, accuracy_by_confidence.values * 100, color='skyblue', alpha=0.7)\n",
    "axes[0, 0].set_title('Prediction Accuracy by Confidence Level')\n",
    "axes[0, 0].set_ylabel('Accuracy (%)')\n",
    "axes[0, 0].tick_params(axis='x', rotation=45)\n",
    "\n",
    "# Add count labels\n",
    "for i, (conf_level, count) in enumerate(matches_by_confidence.items()):\n",
    "    axes[0, 0].text(i, accuracy_by_confidence.iloc[i] * 100 + 1, f'n={count}', \n",
    "                   ha='center', va='bottom', fontsize=9)\n",
    "\n",
    "# 2. Strength Difference vs Prediction Accuracy\n",
    "strength_bins = pd.cut(prediction_comparison['overall_strength_diff'], bins=10)\n",
    "strength_accuracy = prediction_comparison.groupby(strength_bins)['prediction_correct'].mean()\n",
    "\n",
    "axes[0, 1].plot(range(len(strength_accuracy)), strength_accuracy.values * 100, \n",
    "               marker='o', linewidth=2, color='green')\n",
    "axes[0, 1].set_title('Prediction Accuracy by Strength Difference')\n",
    "axes[0, 1].set_ylabel('Accuracy (%)')\n",
    "axes[0, 1].set_xlabel('Strength Difference Bins')\n",
    "axes[0, 1].grid(True, alpha=0.3)\n",
    "\n",
    "# 3. Target Runs vs Prediction Accuracy\n",
    "target_bins = pd.cut(prediction_comparison['target_runs'], bins=8)\n",
    "target_accuracy = prediction_comparison.groupby(target_bins)['prediction_correct'].mean()\n",
    "\n",
    "axes[1, 0].bar(range(len(target_accuracy)), target_accuracy.values * 100, \n",
    "               color='orange', alpha=0.7)\n",
    "axes[1, 0].set_title('Prediction Accuracy by Target Runs')\n",
    "axes[1, 0].set_ylabel('Accuracy (%)')\n",
    "axes[1, 0].set_xlabel('Target Runs Bins')\n",
    "\n",
    "# 4. Confusion Matrix\n",
    "from sklearn.metrics import confusion_matrix\n",
    "cm = confusion_matrix(prediction_comparison['won_chasing'], prediction_comparison['predicted_win'])\n",
    "sns.heatmap(cm, annot=True, fmt='d', cmap='Blues', ax=axes[1, 1],\n",
    "            xticklabels=['Predicted Lose', 'Predicted Win'],\n",
    "            yticklabels=['Actual Lose', 'Actual Win'])\n",
    "axes[1, 1].set_title('Confusion Matrix: Actual vs Predicted')\n",
    "\n",
    "plt.tight_layout()\n",
    "plt.show()"
   ]
  },
  {
   "cell_type": "code",
   "execution_count": 94,
   "id": "2f08a7f7",
   "metadata": {},
   "outputs": [
    {
     "name": "stdout",
     "output_type": "stream",
     "text": [
      "Enhanced dashboard created with actual outcome comparison\n"
     ]
    }
   ],
   "source": [
    "def create_enhanced_dashboard(predict_match_function, prediction_comparison):\n",
    "    \"\"\"\n",
    "    Create enhanced dashboard that shows prediction vs actual results\n",
    "    \"\"\"\n",
    "    \n",
    "    def show_enhanced_prediction(chasing_team, defending_team, target_runs, venue, season=2023, actual_result=None):\n",
    "        \"\"\"\n",
    "        Show prediction with historical accuracy context\n",
    "        \"\"\"\n",
    "        # Make prediction\n",
    "        result = predict_match_function(\n",
    "            chasing_team=chasing_team,\n",
    "            defending_team=defending_team,\n",
    "            target_runs=target_runs,\n",
    "            first_innings_runs=target_runs - 1,\n",
    "            venue=venue,\n",
    "            toss_winner=chasing_team,\n",
    "            toss_decision=\"field\",\n",
    "            season=season\n",
    "        )\n",
    "        \n",
    "        if not result:\n",
    "            print(\"Prediction failed\")\n",
    "            return\n",
    "        \n",
    "        # Get historical accuracy for similar matches\n",
    "        similar_matches = prediction_comparison[\n",
    "            (abs(prediction_comparison['target_runs'] - target_runs) < 20) &\n",
    "            (abs(prediction_comparison['overall_strength_diff'] - result['strength_advantage']) < 5)\n",
    "        ]\n",
    "        \n",
    "        similar_accuracy = similar_matches['prediction_correct'].mean() if len(similar_matches) > 0 else overall_accuracy\n",
    "        \n",
    "        # Create enhanced visualization\n",
    "        fig = make_subplots(\n",
    "            rows=2, cols=2,\n",
    "            subplot_titles=(\n",
    "                f'Win Probability: {result[\"win_probability\"]:.1%}', \n",
    "                'Strength Comparison',\n",
    "                'Historical Accuracy Context', \n",
    "                'Prediction Details'\n",
    "            ),\n",
    "            specs=[[{\"type\": \"indicator\"}, {\"type\": \"bar\"}],\n",
    "                   [{\"type\": \"bar\"}, {\"type\": \"table\"}]],\n",
    "            vertical_spacing=0.15\n",
    "        )\n",
    "        \n",
    "        # 1. Win Probability Gauge with color based on confidence\n",
    "        gauge_color = \"green\" if result['confidence'] > 0.7 else \"yellow\" if result['confidence'] > 0.6 else \"red\"\n",
    "        \n",
    "        fig.add_trace(\n",
    "            go.Indicator(\n",
    "                mode=\"gauge+number+delta\",\n",
    "                value=result['win_probability'] * 100,\n",
    "                domain={'x': [0, 1], 'y': [0, 1]},\n",
    "                title={'text': f\"Win Probability for {chasing_team}\"},\n",
    "                delta={'reference': 50},\n",
    "                gauge={\n",
    "                    'axis': {'range': [None, 100]},\n",
    "                    'bar': {'color': gauge_color},\n",
    "                    'steps': [\n",
    "                        {'range': [0, 30], 'color': \"lightcoral\"},\n",
    "                        {'range': [30, 70], 'color': \"lightyellow\"},\n",
    "                        {'range': [70, 100], 'color': \"lightgreen\"}\n",
    "                    ]\n",
    "                }\n",
    "            ),\n",
    "            row=1, col=1\n",
    "        )\n",
    "        \n",
    "        # 2. Strength Comparison\n",
    "        teams = [chasing_team, defending_team]\n",
    "        chasing_strength = 50 + result['strength_advantage'] / 2\n",
    "        defending_strength = 50 - result['strength_advantage'] / 2\n",
    "        \n",
    "        fig.add_trace(\n",
    "            go.Bar(\n",
    "                x=teams,\n",
    "                y=[chasing_strength, defending_strength],\n",
    "                marker_color=['lightgreen', 'lightcoral'],\n",
    "                text=[f'{chasing_strength:.0f}', f'{defending_strength:.0f}'],\n",
    "                textposition='auto'\n",
    "            ),\n",
    "            row=1, col=2\n",
    "        )\n",
    "        \n",
    "        # 3. Historical Accuracy Context\n",
    "        accuracy_data = {\n",
    "            'Overall': overall_accuracy,\n",
    "            'Similar Matches': similar_accuracy,\n",
    "            'High Confidence': confidence_accuracy.loc['Extreme (90-100%)', 'accuracy'] if 'Extreme (90-100%)' in confidence_accuracy.index else overall_accuracy\n",
    "        }\n",
    "        \n",
    "        fig.add_trace(\n",
    "            go.Bar(\n",
    "                x=list(accuracy_data.keys()),\n",
    "                y=[acc * 100 for acc in accuracy_data.values()],\n",
    "                marker_color='lightblue',\n",
    "                text=[f'{acc*100:.1f}%' for acc in accuracy_data.values()],\n",
    "                textposition='auto'\n",
    "            ),\n",
    "            row=2, col=1\n",
    "        )\n",
    "        \n",
    "        # 4. Prediction Details Table\n",
    "        prediction_details = [\n",
    "            ['Parameter', 'Value'],\n",
    "            ['Match', f'{chasing_team} vs {defending_team}'],\n",
    "            ['Target', f'{target_runs} runs'],\n",
    "            ['Venue', venue],\n",
    "            ['Prediction', f\"{result['prediction']} for {chasing_team}\"],\n",
    "            ['Win Probability', f\"{result['win_probability']:.1%}\"],\n",
    "            ['Confidence', f\"{result['confidence']:.1%}\"],\n",
    "            ['Strength Advantage', f\"{result['strength_advantage']:+.1f}\"],\n",
    "            ['Historical Accuracy', f\"{similar_accuracy:.1%} (similar matches)\"]\n",
    "        ]\n",
    "        \n",
    "        if actual_result is not None:\n",
    "            prediction_details.append(['Actual Result', actual_result])\n",
    "            prediction_details.append(['Prediction Correct', '✅ YES' if (\n",
    "                (actual_result.lower() == 'win' and result['prediction'] == 'Win') or\n",
    "                (actual_result.lower() == 'lose' and result['prediction'] == 'Lose')\n",
    "            ) else '❌ NO'])\n",
    "        \n",
    "        fig.add_trace(\n",
    "            go.Table(\n",
    "                header=dict(values=prediction_details[0]),\n",
    "                cells=dict(values=prediction_details[1:])\n",
    "            ),\n",
    "            row=2, col=2\n",
    "        )\n",
    "        \n",
    "        fig.update_layout(\n",
    "            title=f\"IPL Match Prediction with Historical Context\",\n",
    "            height=600,\n",
    "            showlegend=False\n",
    "        )\n",
    "        \n",
    "        fig.show()\n",
    "        \n",
    "        # Enhanced analysis\n",
    "        print(f\"\\n🔍 ENHANCED ANALYSIS:\")\n",
    "        print(f\"Match: {chasing_team} vs {defending_team}\")\n",
    "        print(f\"Target: {target_runs} runs at {venue}\")\n",
    "        print(f\"Prediction: {result['prediction']} for {chasing_team}\")\n",
    "        print(f\"Win Probability: {result['win_probability']:.1%}\")\n",
    "        print(f\"Confidence: {result['confidence']:.1%}\")\n",
    "        print(f\"Strength Advantage: {result['strength_advantage']:+.1f}\")\n",
    "        print(f\"Historical Accuracy (similar matches): {similar_accuracy:.1%}\")\n",
    "        \n",
    "        if actual_result:\n",
    "            correct_prediction = (\n",
    "                (actual_result.lower() == 'win' and result['prediction'] == 'Win') or\n",
    "                (actual_result.lower() == 'lose' and result['prediction'] == 'Lose')\n",
    "            )\n",
    "            print(f\"Actual Result: {actual_result}\")\n",
    "            print(f\"Prediction Correct: {'✅ YES' if correct_prediction else '❌ NO'}\")\n",
    "    \n",
    "    return show_enhanced_prediction\n",
    "\n",
    "# Create enhanced dashboard\n",
    "show_enhanced_prediction = create_enhanced_dashboard(predict_match, prediction_comparison)\n",
    "\n",
    "print(\"Enhanced dashboard created with actual outcome comparison\")"
   ]
  },
  {
   "cell_type": "code",
   "execution_count": 95,
   "id": "11d5d09d",
   "metadata": {},
   "outputs": [
    {
     "name": "stdout",
     "output_type": "stream",
     "text": [
      "\n",
      "============================================================\n",
      "🧪 TESTING WITH ACTUAL HISTORICAL MATCHES\n",
      "============================================================\n",
      "1. HISTORICAL MATCH - RCB vs CSK 2023:\n"
     ]
    },
    {
     "data": {
      "application/vnd.plotly.v1+json": {
       "config": {
        "plotlyServerURL": "https://plot.ly"
       },
       "data": [
        {
         "delta": {
          "reference": 50
         },
         "domain": {
          "x": [
           0,
           0.45
          ],
          "y": [
           0.575,
           1
          ]
         },
         "gauge": {
          "axis": {
           "range": [
            null,
            100
           ]
          },
          "bar": {
           "color": "green"
          },
          "steps": [
           {
            "color": "lightcoral",
            "range": [
             0,
             30
            ]
           },
           {
            "color": "lightyellow",
            "range": [
             30,
             70
            ]
           },
           {
            "color": "lightgreen",
            "range": [
             70,
             100
            ]
           }
          ]
         },
         "mode": "gauge+number+delta",
         "title": {
          "text": "Win Probability for Royal Challengers Bangalore"
         },
         "type": "indicator",
         "value": 9.94975237555759
        },
        {
         "marker": {
          "color": [
           "lightgreen",
           "lightcoral"
          ]
         },
         "text": [
          "52",
          "48"
         ],
         "textposition": "auto",
         "type": "bar",
         "x": [
          "Royal Challengers Bangalore",
          "Chennai Super Kings"
         ],
         "xaxis": "x",
         "y": [
          51.918344910839096,
          48.081655089160904
         ],
         "yaxis": "y"
        },
        {
         "marker": {
          "color": "lightblue"
         },
         "text": [
          "70.0%",
          "84.6%",
          "83.3%"
         ],
         "textposition": "auto",
         "type": "bar",
         "x": [
          "Overall",
          "Similar Matches",
          "High Confidence"
         ],
         "xaxis": "x2",
         "y": [
          69.95708154506438,
          84.61538461538461,
          83.3
         ],
         "yaxis": "y2"
        },
        {
         "cells": {
          "values": [
           [
            "Match",
            "Royal Challengers Bangalore vs Chennai Super Kings"
           ],
           [
            "Target",
            "227 runs"
           ],
           [
            "Venue",
            "M Chinnaswamy Stadium"
           ],
           [
            "Prediction",
            "Lose for Royal Challengers Bangalore"
           ],
           [
            "Win Probability",
            "9.9%"
           ],
           [
            "Confidence",
            "90.1%"
           ],
           [
            "Strength Advantage",
            "+3.8"
           ],
           [
            "Historical Accuracy",
            "84.6% (similar matches)"
           ],
           [
            "Actual Result",
            "Lose"
           ],
           [
            "Prediction Correct",
            "✅ YES"
           ]
          ]
         },
         "domain": {
          "x": [
           0.55,
           1
          ],
          "y": [
           0,
           0.425
          ]
         },
         "header": {
          "values": [
           "Parameter",
           "Value"
          ]
         },
         "type": "table"
        }
       ],
       "layout": {
        "annotations": [
         {
          "font": {
           "size": 16
          },
          "showarrow": false,
          "text": "Win Probability: 9.9%",
          "x": 0.225,
          "xanchor": "center",
          "xref": "paper",
          "y": 1,
          "yanchor": "bottom",
          "yref": "paper"
         },
         {
          "font": {
           "size": 16
          },
          "showarrow": false,
          "text": "Strength Comparison",
          "x": 0.775,
          "xanchor": "center",
          "xref": "paper",
          "y": 1,
          "yanchor": "bottom",
          "yref": "paper"
         },
         {
          "font": {
           "size": 16
          },
          "showarrow": false,
          "text": "Historical Accuracy Context",
          "x": 0.225,
          "xanchor": "center",
          "xref": "paper",
          "y": 0.425,
          "yanchor": "bottom",
          "yref": "paper"
         },
         {
          "font": {
           "size": 16
          },
          "showarrow": false,
          "text": "Prediction Details",
          "x": 0.775,
          "xanchor": "center",
          "xref": "paper",
          "y": 0.425,
          "yanchor": "bottom",
          "yref": "paper"
         }
        ],
        "height": 600,
        "showlegend": false,
        "template": {
         "data": {
          "bar": [
           {
            "error_x": {
             "color": "#2a3f5f"
            },
            "error_y": {
             "color": "#2a3f5f"
            },
            "marker": {
             "line": {
              "color": "#E5ECF6",
              "width": 0.5
             },
             "pattern": {
              "fillmode": "overlay",
              "size": 10,
              "solidity": 0.2
             }
            },
            "type": "bar"
           }
          ],
          "barpolar": [
           {
            "marker": {
             "line": {
              "color": "#E5ECF6",
              "width": 0.5
             },
             "pattern": {
              "fillmode": "overlay",
              "size": 10,
              "solidity": 0.2
             }
            },
            "type": "barpolar"
           }
          ],
          "carpet": [
           {
            "aaxis": {
             "endlinecolor": "#2a3f5f",
             "gridcolor": "white",
             "linecolor": "white",
             "minorgridcolor": "white",
             "startlinecolor": "#2a3f5f"
            },
            "baxis": {
             "endlinecolor": "#2a3f5f",
             "gridcolor": "white",
             "linecolor": "white",
             "minorgridcolor": "white",
             "startlinecolor": "#2a3f5f"
            },
            "type": "carpet"
           }
          ],
          "choropleth": [
           {
            "colorbar": {
             "outlinewidth": 0,
             "ticks": ""
            },
            "type": "choropleth"
           }
          ],
          "contour": [
           {
            "colorbar": {
             "outlinewidth": 0,
             "ticks": ""
            },
            "colorscale": [
             [
              0,
              "#0d0887"
             ],
             [
              0.1111111111111111,
              "#46039f"
             ],
             [
              0.2222222222222222,
              "#7201a8"
             ],
             [
              0.3333333333333333,
              "#9c179e"
             ],
             [
              0.4444444444444444,
              "#bd3786"
             ],
             [
              0.5555555555555556,
              "#d8576b"
             ],
             [
              0.6666666666666666,
              "#ed7953"
             ],
             [
              0.7777777777777778,
              "#fb9f3a"
             ],
             [
              0.8888888888888888,
              "#fdca26"
             ],
             [
              1,
              "#f0f921"
             ]
            ],
            "type": "contour"
           }
          ],
          "contourcarpet": [
           {
            "colorbar": {
             "outlinewidth": 0,
             "ticks": ""
            },
            "type": "contourcarpet"
           }
          ],
          "heatmap": [
           {
            "colorbar": {
             "outlinewidth": 0,
             "ticks": ""
            },
            "colorscale": [
             [
              0,
              "#0d0887"
             ],
             [
              0.1111111111111111,
              "#46039f"
             ],
             [
              0.2222222222222222,
              "#7201a8"
             ],
             [
              0.3333333333333333,
              "#9c179e"
             ],
             [
              0.4444444444444444,
              "#bd3786"
             ],
             [
              0.5555555555555556,
              "#d8576b"
             ],
             [
              0.6666666666666666,
              "#ed7953"
             ],
             [
              0.7777777777777778,
              "#fb9f3a"
             ],
             [
              0.8888888888888888,
              "#fdca26"
             ],
             [
              1,
              "#f0f921"
             ]
            ],
            "type": "heatmap"
           }
          ],
          "histogram": [
           {
            "marker": {
             "pattern": {
              "fillmode": "overlay",
              "size": 10,
              "solidity": 0.2
             }
            },
            "type": "histogram"
           }
          ],
          "histogram2d": [
           {
            "colorbar": {
             "outlinewidth": 0,
             "ticks": ""
            },
            "colorscale": [
             [
              0,
              "#0d0887"
             ],
             [
              0.1111111111111111,
              "#46039f"
             ],
             [
              0.2222222222222222,
              "#7201a8"
             ],
             [
              0.3333333333333333,
              "#9c179e"
             ],
             [
              0.4444444444444444,
              "#bd3786"
             ],
             [
              0.5555555555555556,
              "#d8576b"
             ],
             [
              0.6666666666666666,
              "#ed7953"
             ],
             [
              0.7777777777777778,
              "#fb9f3a"
             ],
             [
              0.8888888888888888,
              "#fdca26"
             ],
             [
              1,
              "#f0f921"
             ]
            ],
            "type": "histogram2d"
           }
          ],
          "histogram2dcontour": [
           {
            "colorbar": {
             "outlinewidth": 0,
             "ticks": ""
            },
            "colorscale": [
             [
              0,
              "#0d0887"
             ],
             [
              0.1111111111111111,
              "#46039f"
             ],
             [
              0.2222222222222222,
              "#7201a8"
             ],
             [
              0.3333333333333333,
              "#9c179e"
             ],
             [
              0.4444444444444444,
              "#bd3786"
             ],
             [
              0.5555555555555556,
              "#d8576b"
             ],
             [
              0.6666666666666666,
              "#ed7953"
             ],
             [
              0.7777777777777778,
              "#fb9f3a"
             ],
             [
              0.8888888888888888,
              "#fdca26"
             ],
             [
              1,
              "#f0f921"
             ]
            ],
            "type": "histogram2dcontour"
           }
          ],
          "mesh3d": [
           {
            "colorbar": {
             "outlinewidth": 0,
             "ticks": ""
            },
            "type": "mesh3d"
           }
          ],
          "parcoords": [
           {
            "line": {
             "colorbar": {
              "outlinewidth": 0,
              "ticks": ""
             }
            },
            "type": "parcoords"
           }
          ],
          "pie": [
           {
            "automargin": true,
            "type": "pie"
           }
          ],
          "scatter": [
           {
            "fillpattern": {
             "fillmode": "overlay",
             "size": 10,
             "solidity": 0.2
            },
            "type": "scatter"
           }
          ],
          "scatter3d": [
           {
            "line": {
             "colorbar": {
              "outlinewidth": 0,
              "ticks": ""
             }
            },
            "marker": {
             "colorbar": {
              "outlinewidth": 0,
              "ticks": ""
             }
            },
            "type": "scatter3d"
           }
          ],
          "scattercarpet": [
           {
            "marker": {
             "colorbar": {
              "outlinewidth": 0,
              "ticks": ""
             }
            },
            "type": "scattercarpet"
           }
          ],
          "scattergeo": [
           {
            "marker": {
             "colorbar": {
              "outlinewidth": 0,
              "ticks": ""
             }
            },
            "type": "scattergeo"
           }
          ],
          "scattergl": [
           {
            "marker": {
             "colorbar": {
              "outlinewidth": 0,
              "ticks": ""
             }
            },
            "type": "scattergl"
           }
          ],
          "scattermap": [
           {
            "marker": {
             "colorbar": {
              "outlinewidth": 0,
              "ticks": ""
             }
            },
            "type": "scattermap"
           }
          ],
          "scattermapbox": [
           {
            "marker": {
             "colorbar": {
              "outlinewidth": 0,
              "ticks": ""
             }
            },
            "type": "scattermapbox"
           }
          ],
          "scatterpolar": [
           {
            "marker": {
             "colorbar": {
              "outlinewidth": 0,
              "ticks": ""
             }
            },
            "type": "scatterpolar"
           }
          ],
          "scatterpolargl": [
           {
            "marker": {
             "colorbar": {
              "outlinewidth": 0,
              "ticks": ""
             }
            },
            "type": "scatterpolargl"
           }
          ],
          "scatterternary": [
           {
            "marker": {
             "colorbar": {
              "outlinewidth": 0,
              "ticks": ""
             }
            },
            "type": "scatterternary"
           }
          ],
          "surface": [
           {
            "colorbar": {
             "outlinewidth": 0,
             "ticks": ""
            },
            "colorscale": [
             [
              0,
              "#0d0887"
             ],
             [
              0.1111111111111111,
              "#46039f"
             ],
             [
              0.2222222222222222,
              "#7201a8"
             ],
             [
              0.3333333333333333,
              "#9c179e"
             ],
             [
              0.4444444444444444,
              "#bd3786"
             ],
             [
              0.5555555555555556,
              "#d8576b"
             ],
             [
              0.6666666666666666,
              "#ed7953"
             ],
             [
              0.7777777777777778,
              "#fb9f3a"
             ],
             [
              0.8888888888888888,
              "#fdca26"
             ],
             [
              1,
              "#f0f921"
             ]
            ],
            "type": "surface"
           }
          ],
          "table": [
           {
            "cells": {
             "fill": {
              "color": "#EBF0F8"
             },
             "line": {
              "color": "white"
             }
            },
            "header": {
             "fill": {
              "color": "#C8D4E3"
             },
             "line": {
              "color": "white"
             }
            },
            "type": "table"
           }
          ]
         },
         "layout": {
          "annotationdefaults": {
           "arrowcolor": "#2a3f5f",
           "arrowhead": 0,
           "arrowwidth": 1
          },
          "autotypenumbers": "strict",
          "coloraxis": {
           "colorbar": {
            "outlinewidth": 0,
            "ticks": ""
           }
          },
          "colorscale": {
           "diverging": [
            [
             0,
             "#8e0152"
            ],
            [
             0.1,
             "#c51b7d"
            ],
            [
             0.2,
             "#de77ae"
            ],
            [
             0.3,
             "#f1b6da"
            ],
            [
             0.4,
             "#fde0ef"
            ],
            [
             0.5,
             "#f7f7f7"
            ],
            [
             0.6,
             "#e6f5d0"
            ],
            [
             0.7,
             "#b8e186"
            ],
            [
             0.8,
             "#7fbc41"
            ],
            [
             0.9,
             "#4d9221"
            ],
            [
             1,
             "#276419"
            ]
           ],
           "sequential": [
            [
             0,
             "#0d0887"
            ],
            [
             0.1111111111111111,
             "#46039f"
            ],
            [
             0.2222222222222222,
             "#7201a8"
            ],
            [
             0.3333333333333333,
             "#9c179e"
            ],
            [
             0.4444444444444444,
             "#bd3786"
            ],
            [
             0.5555555555555556,
             "#d8576b"
            ],
            [
             0.6666666666666666,
             "#ed7953"
            ],
            [
             0.7777777777777778,
             "#fb9f3a"
            ],
            [
             0.8888888888888888,
             "#fdca26"
            ],
            [
             1,
             "#f0f921"
            ]
           ],
           "sequentialminus": [
            [
             0,
             "#0d0887"
            ],
            [
             0.1111111111111111,
             "#46039f"
            ],
            [
             0.2222222222222222,
             "#7201a8"
            ],
            [
             0.3333333333333333,
             "#9c179e"
            ],
            [
             0.4444444444444444,
             "#bd3786"
            ],
            [
             0.5555555555555556,
             "#d8576b"
            ],
            [
             0.6666666666666666,
             "#ed7953"
            ],
            [
             0.7777777777777778,
             "#fb9f3a"
            ],
            [
             0.8888888888888888,
             "#fdca26"
            ],
            [
             1,
             "#f0f921"
            ]
           ]
          },
          "colorway": [
           "#636efa",
           "#EF553B",
           "#00cc96",
           "#ab63fa",
           "#FFA15A",
           "#19d3f3",
           "#FF6692",
           "#B6E880",
           "#FF97FF",
           "#FECB52"
          ],
          "font": {
           "color": "#2a3f5f"
          },
          "geo": {
           "bgcolor": "white",
           "lakecolor": "white",
           "landcolor": "#E5ECF6",
           "showlakes": true,
           "showland": true,
           "subunitcolor": "white"
          },
          "hoverlabel": {
           "align": "left"
          },
          "hovermode": "closest",
          "mapbox": {
           "style": "light"
          },
          "paper_bgcolor": "white",
          "plot_bgcolor": "#E5ECF6",
          "polar": {
           "angularaxis": {
            "gridcolor": "white",
            "linecolor": "white",
            "ticks": ""
           },
           "bgcolor": "#E5ECF6",
           "radialaxis": {
            "gridcolor": "white",
            "linecolor": "white",
            "ticks": ""
           }
          },
          "scene": {
           "xaxis": {
            "backgroundcolor": "#E5ECF6",
            "gridcolor": "white",
            "gridwidth": 2,
            "linecolor": "white",
            "showbackground": true,
            "ticks": "",
            "zerolinecolor": "white"
           },
           "yaxis": {
            "backgroundcolor": "#E5ECF6",
            "gridcolor": "white",
            "gridwidth": 2,
            "linecolor": "white",
            "showbackground": true,
            "ticks": "",
            "zerolinecolor": "white"
           },
           "zaxis": {
            "backgroundcolor": "#E5ECF6",
            "gridcolor": "white",
            "gridwidth": 2,
            "linecolor": "white",
            "showbackground": true,
            "ticks": "",
            "zerolinecolor": "white"
           }
          },
          "shapedefaults": {
           "line": {
            "color": "#2a3f5f"
           }
          },
          "ternary": {
           "aaxis": {
            "gridcolor": "white",
            "linecolor": "white",
            "ticks": ""
           },
           "baxis": {
            "gridcolor": "white",
            "linecolor": "white",
            "ticks": ""
           },
           "bgcolor": "#E5ECF6",
           "caxis": {
            "gridcolor": "white",
            "linecolor": "white",
            "ticks": ""
           }
          },
          "title": {
           "x": 0.05
          },
          "xaxis": {
           "automargin": true,
           "gridcolor": "white",
           "linecolor": "white",
           "ticks": "",
           "title": {
            "standoff": 15
           },
           "zerolinecolor": "white",
           "zerolinewidth": 2
          },
          "yaxis": {
           "automargin": true,
           "gridcolor": "white",
           "linecolor": "white",
           "ticks": "",
           "title": {
            "standoff": 15
           },
           "zerolinecolor": "white",
           "zerolinewidth": 2
          }
         }
        },
        "title": {
         "text": "IPL Match Prediction with Historical Context"
        },
        "xaxis": {
         "anchor": "y",
         "domain": [
          0.55,
          1
         ]
        },
        "xaxis2": {
         "anchor": "y2",
         "domain": [
          0,
          0.45
         ]
        },
        "yaxis": {
         "anchor": "x",
         "domain": [
          0.575,
          1
         ]
        },
        "yaxis2": {
         "anchor": "x2",
         "domain": [
          0,
          0.425
         ]
        }
       }
      }
     },
     "metadata": {},
     "output_type": "display_data"
    },
    {
     "name": "stdout",
     "output_type": "stream",
     "text": [
      "\n",
      "🔍 ENHANCED ANALYSIS:\n",
      "Match: Royal Challengers Bangalore vs Chennai Super Kings\n",
      "Target: 227 runs at M Chinnaswamy Stadium\n",
      "Prediction: Lose for Royal Challengers Bangalore\n",
      "Win Probability: 9.9%\n",
      "Confidence: 90.1%\n",
      "Strength Advantage: +3.8\n",
      "Historical Accuracy (similar matches): 84.6%\n",
      "Actual Result: Lose\n",
      "Prediction Correct: ✅ YES\n",
      "\n",
      "--------------------------------------------------\n",
      "2. HISTORICAL MATCH - MI vs GT 2023:\n"
     ]
    },
    {
     "data": {
      "application/vnd.plotly.v1+json": {
       "config": {
        "plotlyServerURL": "https://plot.ly"
       },
       "data": [
        {
         "delta": {
          "reference": 50
         },
         "domain": {
          "x": [
           0,
           0.45
          ],
          "y": [
           0.575,
           1
          ]
         },
         "gauge": {
          "axis": {
           "range": [
            null,
            100
           ]
          },
          "bar": {
           "color": "yellow"
          },
          "steps": [
           {
            "color": "lightcoral",
            "range": [
             0,
             30
            ]
           },
           {
            "color": "lightyellow",
            "range": [
             30,
             70
            ]
           },
           {
            "color": "lightgreen",
            "range": [
             70,
             100
            ]
           }
          ]
         },
         "mode": "gauge+number+delta",
         "title": {
          "text": "Win Probability for Gujarat Titans"
         },
         "type": "indicator",
         "value": 67.66981391700367
        },
        {
         "marker": {
          "color": [
           "lightgreen",
           "lightcoral"
          ]
         },
         "text": [
          "51",
          "49"
         ],
         "textposition": "auto",
         "type": "bar",
         "x": [
          "Gujarat Titans",
          "Mumbai Indians"
         ],
         "xaxis": "x",
         "y": [
          51.383104555717516,
          48.616895444282484
         ],
         "yaxis": "y"
        },
        {
         "marker": {
          "color": "lightblue"
         },
         "text": [
          "70.0%",
          "64.1%",
          "83.3%"
         ],
         "textposition": "auto",
         "type": "bar",
         "x": [
          "Overall",
          "Similar Matches",
          "High Confidence"
         ],
         "xaxis": "x2",
         "y": [
          69.95708154506438,
          64.1025641025641,
          83.3
         ],
         "yaxis": "y2"
        },
        {
         "cells": {
          "values": [
           [
            "Match",
            "Gujarat Titans vs Mumbai Indians"
           ],
           [
            "Target",
            "171 runs"
           ],
           [
            "Venue",
            "Wankhede Stadium"
           ],
           [
            "Prediction",
            "Win for Gujarat Titans"
           ],
           [
            "Win Probability",
            "67.7%"
           ],
           [
            "Confidence",
            "67.7%"
           ],
           [
            "Strength Advantage",
            "+2.8"
           ],
           [
            "Historical Accuracy",
            "64.1% (similar matches)"
           ],
           [
            "Actual Result",
            "Win"
           ],
           [
            "Prediction Correct",
            "✅ YES"
           ]
          ]
         },
         "domain": {
          "x": [
           0.55,
           1
          ],
          "y": [
           0,
           0.425
          ]
         },
         "header": {
          "values": [
           "Parameter",
           "Value"
          ]
         },
         "type": "table"
        }
       ],
       "layout": {
        "annotations": [
         {
          "font": {
           "size": 16
          },
          "showarrow": false,
          "text": "Win Probability: 67.7%",
          "x": 0.225,
          "xanchor": "center",
          "xref": "paper",
          "y": 1,
          "yanchor": "bottom",
          "yref": "paper"
         },
         {
          "font": {
           "size": 16
          },
          "showarrow": false,
          "text": "Strength Comparison",
          "x": 0.775,
          "xanchor": "center",
          "xref": "paper",
          "y": 1,
          "yanchor": "bottom",
          "yref": "paper"
         },
         {
          "font": {
           "size": 16
          },
          "showarrow": false,
          "text": "Historical Accuracy Context",
          "x": 0.225,
          "xanchor": "center",
          "xref": "paper",
          "y": 0.425,
          "yanchor": "bottom",
          "yref": "paper"
         },
         {
          "font": {
           "size": 16
          },
          "showarrow": false,
          "text": "Prediction Details",
          "x": 0.775,
          "xanchor": "center",
          "xref": "paper",
          "y": 0.425,
          "yanchor": "bottom",
          "yref": "paper"
         }
        ],
        "height": 600,
        "showlegend": false,
        "template": {
         "data": {
          "bar": [
           {
            "error_x": {
             "color": "#2a3f5f"
            },
            "error_y": {
             "color": "#2a3f5f"
            },
            "marker": {
             "line": {
              "color": "#E5ECF6",
              "width": 0.5
             },
             "pattern": {
              "fillmode": "overlay",
              "size": 10,
              "solidity": 0.2
             }
            },
            "type": "bar"
           }
          ],
          "barpolar": [
           {
            "marker": {
             "line": {
              "color": "#E5ECF6",
              "width": 0.5
             },
             "pattern": {
              "fillmode": "overlay",
              "size": 10,
              "solidity": 0.2
             }
            },
            "type": "barpolar"
           }
          ],
          "carpet": [
           {
            "aaxis": {
             "endlinecolor": "#2a3f5f",
             "gridcolor": "white",
             "linecolor": "white",
             "minorgridcolor": "white",
             "startlinecolor": "#2a3f5f"
            },
            "baxis": {
             "endlinecolor": "#2a3f5f",
             "gridcolor": "white",
             "linecolor": "white",
             "minorgridcolor": "white",
             "startlinecolor": "#2a3f5f"
            },
            "type": "carpet"
           }
          ],
          "choropleth": [
           {
            "colorbar": {
             "outlinewidth": 0,
             "ticks": ""
            },
            "type": "choropleth"
           }
          ],
          "contour": [
           {
            "colorbar": {
             "outlinewidth": 0,
             "ticks": ""
            },
            "colorscale": [
             [
              0,
              "#0d0887"
             ],
             [
              0.1111111111111111,
              "#46039f"
             ],
             [
              0.2222222222222222,
              "#7201a8"
             ],
             [
              0.3333333333333333,
              "#9c179e"
             ],
             [
              0.4444444444444444,
              "#bd3786"
             ],
             [
              0.5555555555555556,
              "#d8576b"
             ],
             [
              0.6666666666666666,
              "#ed7953"
             ],
             [
              0.7777777777777778,
              "#fb9f3a"
             ],
             [
              0.8888888888888888,
              "#fdca26"
             ],
             [
              1,
              "#f0f921"
             ]
            ],
            "type": "contour"
           }
          ],
          "contourcarpet": [
           {
            "colorbar": {
             "outlinewidth": 0,
             "ticks": ""
            },
            "type": "contourcarpet"
           }
          ],
          "heatmap": [
           {
            "colorbar": {
             "outlinewidth": 0,
             "ticks": ""
            },
            "colorscale": [
             [
              0,
              "#0d0887"
             ],
             [
              0.1111111111111111,
              "#46039f"
             ],
             [
              0.2222222222222222,
              "#7201a8"
             ],
             [
              0.3333333333333333,
              "#9c179e"
             ],
             [
              0.4444444444444444,
              "#bd3786"
             ],
             [
              0.5555555555555556,
              "#d8576b"
             ],
             [
              0.6666666666666666,
              "#ed7953"
             ],
             [
              0.7777777777777778,
              "#fb9f3a"
             ],
             [
              0.8888888888888888,
              "#fdca26"
             ],
             [
              1,
              "#f0f921"
             ]
            ],
            "type": "heatmap"
           }
          ],
          "histogram": [
           {
            "marker": {
             "pattern": {
              "fillmode": "overlay",
              "size": 10,
              "solidity": 0.2
             }
            },
            "type": "histogram"
           }
          ],
          "histogram2d": [
           {
            "colorbar": {
             "outlinewidth": 0,
             "ticks": ""
            },
            "colorscale": [
             [
              0,
              "#0d0887"
             ],
             [
              0.1111111111111111,
              "#46039f"
             ],
             [
              0.2222222222222222,
              "#7201a8"
             ],
             [
              0.3333333333333333,
              "#9c179e"
             ],
             [
              0.4444444444444444,
              "#bd3786"
             ],
             [
              0.5555555555555556,
              "#d8576b"
             ],
             [
              0.6666666666666666,
              "#ed7953"
             ],
             [
              0.7777777777777778,
              "#fb9f3a"
             ],
             [
              0.8888888888888888,
              "#fdca26"
             ],
             [
              1,
              "#f0f921"
             ]
            ],
            "type": "histogram2d"
           }
          ],
          "histogram2dcontour": [
           {
            "colorbar": {
             "outlinewidth": 0,
             "ticks": ""
            },
            "colorscale": [
             [
              0,
              "#0d0887"
             ],
             [
              0.1111111111111111,
              "#46039f"
             ],
             [
              0.2222222222222222,
              "#7201a8"
             ],
             [
              0.3333333333333333,
              "#9c179e"
             ],
             [
              0.4444444444444444,
              "#bd3786"
             ],
             [
              0.5555555555555556,
              "#d8576b"
             ],
             [
              0.6666666666666666,
              "#ed7953"
             ],
             [
              0.7777777777777778,
              "#fb9f3a"
             ],
             [
              0.8888888888888888,
              "#fdca26"
             ],
             [
              1,
              "#f0f921"
             ]
            ],
            "type": "histogram2dcontour"
           }
          ],
          "mesh3d": [
           {
            "colorbar": {
             "outlinewidth": 0,
             "ticks": ""
            },
            "type": "mesh3d"
           }
          ],
          "parcoords": [
           {
            "line": {
             "colorbar": {
              "outlinewidth": 0,
              "ticks": ""
             }
            },
            "type": "parcoords"
           }
          ],
          "pie": [
           {
            "automargin": true,
            "type": "pie"
           }
          ],
          "scatter": [
           {
            "fillpattern": {
             "fillmode": "overlay",
             "size": 10,
             "solidity": 0.2
            },
            "type": "scatter"
           }
          ],
          "scatter3d": [
           {
            "line": {
             "colorbar": {
              "outlinewidth": 0,
              "ticks": ""
             }
            },
            "marker": {
             "colorbar": {
              "outlinewidth": 0,
              "ticks": ""
             }
            },
            "type": "scatter3d"
           }
          ],
          "scattercarpet": [
           {
            "marker": {
             "colorbar": {
              "outlinewidth": 0,
              "ticks": ""
             }
            },
            "type": "scattercarpet"
           }
          ],
          "scattergeo": [
           {
            "marker": {
             "colorbar": {
              "outlinewidth": 0,
              "ticks": ""
             }
            },
            "type": "scattergeo"
           }
          ],
          "scattergl": [
           {
            "marker": {
             "colorbar": {
              "outlinewidth": 0,
              "ticks": ""
             }
            },
            "type": "scattergl"
           }
          ],
          "scattermap": [
           {
            "marker": {
             "colorbar": {
              "outlinewidth": 0,
              "ticks": ""
             }
            },
            "type": "scattermap"
           }
          ],
          "scattermapbox": [
           {
            "marker": {
             "colorbar": {
              "outlinewidth": 0,
              "ticks": ""
             }
            },
            "type": "scattermapbox"
           }
          ],
          "scatterpolar": [
           {
            "marker": {
             "colorbar": {
              "outlinewidth": 0,
              "ticks": ""
             }
            },
            "type": "scatterpolar"
           }
          ],
          "scatterpolargl": [
           {
            "marker": {
             "colorbar": {
              "outlinewidth": 0,
              "ticks": ""
             }
            },
            "type": "scatterpolargl"
           }
          ],
          "scatterternary": [
           {
            "marker": {
             "colorbar": {
              "outlinewidth": 0,
              "ticks": ""
             }
            },
            "type": "scatterternary"
           }
          ],
          "surface": [
           {
            "colorbar": {
             "outlinewidth": 0,
             "ticks": ""
            },
            "colorscale": [
             [
              0,
              "#0d0887"
             ],
             [
              0.1111111111111111,
              "#46039f"
             ],
             [
              0.2222222222222222,
              "#7201a8"
             ],
             [
              0.3333333333333333,
              "#9c179e"
             ],
             [
              0.4444444444444444,
              "#bd3786"
             ],
             [
              0.5555555555555556,
              "#d8576b"
             ],
             [
              0.6666666666666666,
              "#ed7953"
             ],
             [
              0.7777777777777778,
              "#fb9f3a"
             ],
             [
              0.8888888888888888,
              "#fdca26"
             ],
             [
              1,
              "#f0f921"
             ]
            ],
            "type": "surface"
           }
          ],
          "table": [
           {
            "cells": {
             "fill": {
              "color": "#EBF0F8"
             },
             "line": {
              "color": "white"
             }
            },
            "header": {
             "fill": {
              "color": "#C8D4E3"
             },
             "line": {
              "color": "white"
             }
            },
            "type": "table"
           }
          ]
         },
         "layout": {
          "annotationdefaults": {
           "arrowcolor": "#2a3f5f",
           "arrowhead": 0,
           "arrowwidth": 1
          },
          "autotypenumbers": "strict",
          "coloraxis": {
           "colorbar": {
            "outlinewidth": 0,
            "ticks": ""
           }
          },
          "colorscale": {
           "diverging": [
            [
             0,
             "#8e0152"
            ],
            [
             0.1,
             "#c51b7d"
            ],
            [
             0.2,
             "#de77ae"
            ],
            [
             0.3,
             "#f1b6da"
            ],
            [
             0.4,
             "#fde0ef"
            ],
            [
             0.5,
             "#f7f7f7"
            ],
            [
             0.6,
             "#e6f5d0"
            ],
            [
             0.7,
             "#b8e186"
            ],
            [
             0.8,
             "#7fbc41"
            ],
            [
             0.9,
             "#4d9221"
            ],
            [
             1,
             "#276419"
            ]
           ],
           "sequential": [
            [
             0,
             "#0d0887"
            ],
            [
             0.1111111111111111,
             "#46039f"
            ],
            [
             0.2222222222222222,
             "#7201a8"
            ],
            [
             0.3333333333333333,
             "#9c179e"
            ],
            [
             0.4444444444444444,
             "#bd3786"
            ],
            [
             0.5555555555555556,
             "#d8576b"
            ],
            [
             0.6666666666666666,
             "#ed7953"
            ],
            [
             0.7777777777777778,
             "#fb9f3a"
            ],
            [
             0.8888888888888888,
             "#fdca26"
            ],
            [
             1,
             "#f0f921"
            ]
           ],
           "sequentialminus": [
            [
             0,
             "#0d0887"
            ],
            [
             0.1111111111111111,
             "#46039f"
            ],
            [
             0.2222222222222222,
             "#7201a8"
            ],
            [
             0.3333333333333333,
             "#9c179e"
            ],
            [
             0.4444444444444444,
             "#bd3786"
            ],
            [
             0.5555555555555556,
             "#d8576b"
            ],
            [
             0.6666666666666666,
             "#ed7953"
            ],
            [
             0.7777777777777778,
             "#fb9f3a"
            ],
            [
             0.8888888888888888,
             "#fdca26"
            ],
            [
             1,
             "#f0f921"
            ]
           ]
          },
          "colorway": [
           "#636efa",
           "#EF553B",
           "#00cc96",
           "#ab63fa",
           "#FFA15A",
           "#19d3f3",
           "#FF6692",
           "#B6E880",
           "#FF97FF",
           "#FECB52"
          ],
          "font": {
           "color": "#2a3f5f"
          },
          "geo": {
           "bgcolor": "white",
           "lakecolor": "white",
           "landcolor": "#E5ECF6",
           "showlakes": true,
           "showland": true,
           "subunitcolor": "white"
          },
          "hoverlabel": {
           "align": "left"
          },
          "hovermode": "closest",
          "mapbox": {
           "style": "light"
          },
          "paper_bgcolor": "white",
          "plot_bgcolor": "#E5ECF6",
          "polar": {
           "angularaxis": {
            "gridcolor": "white",
            "linecolor": "white",
            "ticks": ""
           },
           "bgcolor": "#E5ECF6",
           "radialaxis": {
            "gridcolor": "white",
            "linecolor": "white",
            "ticks": ""
           }
          },
          "scene": {
           "xaxis": {
            "backgroundcolor": "#E5ECF6",
            "gridcolor": "white",
            "gridwidth": 2,
            "linecolor": "white",
            "showbackground": true,
            "ticks": "",
            "zerolinecolor": "white"
           },
           "yaxis": {
            "backgroundcolor": "#E5ECF6",
            "gridcolor": "white",
            "gridwidth": 2,
            "linecolor": "white",
            "showbackground": true,
            "ticks": "",
            "zerolinecolor": "white"
           },
           "zaxis": {
            "backgroundcolor": "#E5ECF6",
            "gridcolor": "white",
            "gridwidth": 2,
            "linecolor": "white",
            "showbackground": true,
            "ticks": "",
            "zerolinecolor": "white"
           }
          },
          "shapedefaults": {
           "line": {
            "color": "#2a3f5f"
           }
          },
          "ternary": {
           "aaxis": {
            "gridcolor": "white",
            "linecolor": "white",
            "ticks": ""
           },
           "baxis": {
            "gridcolor": "white",
            "linecolor": "white",
            "ticks": ""
           },
           "bgcolor": "#E5ECF6",
           "caxis": {
            "gridcolor": "white",
            "linecolor": "white",
            "ticks": ""
           }
          },
          "title": {
           "x": 0.05
          },
          "xaxis": {
           "automargin": true,
           "gridcolor": "white",
           "linecolor": "white",
           "ticks": "",
           "title": {
            "standoff": 15
           },
           "zerolinecolor": "white",
           "zerolinewidth": 2
          },
          "yaxis": {
           "automargin": true,
           "gridcolor": "white",
           "linecolor": "white",
           "ticks": "",
           "title": {
            "standoff": 15
           },
           "zerolinecolor": "white",
           "zerolinewidth": 2
          }
         }
        },
        "title": {
         "text": "IPL Match Prediction with Historical Context"
        },
        "xaxis": {
         "anchor": "y",
         "domain": [
          0.55,
          1
         ]
        },
        "xaxis2": {
         "anchor": "y2",
         "domain": [
          0,
          0.45
         ]
        },
        "yaxis": {
         "anchor": "x",
         "domain": [
          0.575,
          1
         ]
        },
        "yaxis2": {
         "anchor": "x2",
         "domain": [
          0,
          0.425
         ]
        }
       }
      }
     },
     "metadata": {},
     "output_type": "display_data"
    },
    {
     "name": "stdout",
     "output_type": "stream",
     "text": [
      "\n",
      "🔍 ENHANCED ANALYSIS:\n",
      "Match: Gujarat Titans vs Mumbai Indians\n",
      "Target: 171 runs at Wankhede Stadium\n",
      "Prediction: Win for Gujarat Titans\n",
      "Win Probability: 67.7%\n",
      "Confidence: 67.7%\n",
      "Strength Advantage: +2.8\n",
      "Historical Accuracy (similar matches): 64.1%\n",
      "Actual Result: Win\n",
      "Prediction Correct: ✅ YES\n"
     ]
    }
   ],
   "source": [
    "\n",
    "print(\"\\n\" + \"=\"*60)\n",
    "print(\"🧪 TESTING WITH ACTUAL HISTORICAL MATCHES\")\n",
    "print(\"=\"*60)\n",
    "\n",
    "# Test with some known historical matches\n",
    "print(\"1. HISTORICAL MATCH - RCB vs CSK 2023:\")\n",
    "show_enhanced_prediction(\n",
    "    chasing_team=\"Royal Challengers Bangalore\",\n",
    "    defending_team=\"Chennai Super Kings\",\n",
    "    target_runs=227,\n",
    "    venue=\"M Chinnaswamy Stadium\", \n",
    "    season=2023,\n",
    "    actual_result=\"Lose\"  # CSK won this match\n",
    ")\n",
    "\n",
    "print(\"\\n\" + \"-\"*50)\n",
    "\n",
    "print(\"2. HISTORICAL MATCH - MI vs GT 2023:\")\n",
    "show_enhanced_prediction(\n",
    "    chasing_team=\"Gujarat Titans\", \n",
    "    defending_team=\"Mumbai Indians\",\n",
    "    target_runs=171,\n",
    "    venue=\"Wankhede Stadium\",\n",
    "    season=2023,\n",
    "    actual_result=\"Win\"  # GT won this match\n",
    ")"
   ]
  },
  {
   "cell_type": "code",
   "execution_count": null,
   "id": "38d8b2be",
   "metadata": {},
   "outputs": [],
   "source": []
  }
 ],
 "metadata": {
  "kernelspec": {
   "display_name": "Python 3",
   "language": "python",
   "name": "python3"
  },
  "language_info": {
   "codemirror_mode": {
    "name": "ipython",
    "version": 3
   },
   "file_extension": ".py",
   "mimetype": "text/x-python",
   "name": "python",
   "nbconvert_exporter": "python",
   "pygments_lexer": "ipython3",
   "version": "3.12.3"
  }
 },
 "nbformat": 4,
 "nbformat_minor": 5
}
